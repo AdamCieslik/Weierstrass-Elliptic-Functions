{
 "cells": [
  {
   "cell_type": "markdown",
   "id": "352ee8a3-6a8b-4da8-a866-80fc1af3dadd",
   "metadata": {},
   "source": [
    "<div style=\"font-family: 'Latin Modern Roman', Times, serif; font-size: 16px;\">\n",
    "<h1 style=\"font-size: 32px;\">Introduction</h1>\n",
    "</div>"
   ]
  },
  {
   "cell_type": "markdown",
   "id": "2ca5cbd2-406e-43e3-af04-0b42716c44dd",
   "metadata": {},
   "source": [
    "<div style=\"font-family: 'Latin Modern Roman', Times, serif; font-size: 16px;\">\n",
    "<p>\n",
    "    This notebook presents and discusses how to encode the Weierstrass Elliptic Functions, namely:\n",
    "    <ul>\n",
    "        <li>$\\wp(z) = \\wp(z, g_2, g_3)$ - Weierstrass $\\wp$ eliptic function for argument $z$ and characterised by lattice invariants $g_2$ and $g_3$ </li>\n",
    "        <li>$\\sigma(z) = \\sigma(z, g_2, g_3)$ - Weierstrass $\\sigma$ function for argument $z$ and characterised by lattice invariants $g_2$ and $g_3$ </li>\n",
    "        <li>$\\zeta(z) = \\zeta(z, g_2, g_3)$ - Weierstrass $\\zeta$ function for argument $z$ and characterised by lattice invariants $g_2$ and $g_3$ </li>\n",
    "    </ul>\n",
    "\n",
    "And the inverse function $\\wp^{-1}$ of Wieierstrass. Additionally, definitions of helpful quantities such as:\n",
    "    <ul>\n",
    "        <li>$\\omega_i = \\omega_i (g_2, g_3)$ - half periods or lattice generators characterised by lattice invariants $g_2$ and $g_3$ </li>\n",
    "    </ul>\n",
    "    \n",
    "The functions presented here are equivalent to what is currently available in Wolfram Mathematica 14 software in the field of Weierstrass Elliptic Functions.\n",
    "\n",
    "The following two libraries are required for work:\n",
    "- `mpmath`\n",
    "- `numpy`\n",
    "\n",
    "The code is based on definitions from the  <a href=\"https://dlmf.nist.gov/23\" target=\"_blank\">DLMF</a>  database\n",
    "</p>\n",
    "</div>\n"
   ]
  },
  {
   "cell_type": "code",
   "execution_count": 49,
   "id": "5c59ac1e-4b4f-49fc-b9ff-d4300a4c7812",
   "metadata": {},
   "outputs": [],
   "source": [
    "from mpmath import *\n",
    "import numpy as np"
   ]
  },
  {
   "cell_type": "markdown",
   "id": "23a38146-c75d-4f7e-9b0f-e2ffdd33ba10",
   "metadata": {},
   "source": [
    "<div style=\"font-family: 'Latin Modern Roman', Times, serif; font-size: 16px;\">\n",
    "We set two important parameters:\n",
    "\n",
    "  `mp.dps = 25` : Specifies the precision of calculations to 25 decimal digits. By default, the precision is set to 15 digits, but you can adjust it to your needs.</li>\n",
    "\n",
    "  `mp.pretty = True` : Enables pretty formatting of results. When this option is active, mpmath displays results in a more readable way, e.g. by rounding the numbers and using mathematical notation.\n",
    "</ul>    \n",
    "</div>    "
   ]
  },
  {
   "cell_type": "code",
   "execution_count": 2,
   "id": "ed813713-d60d-482c-90d1-3c6db98df2be",
   "metadata": {},
   "outputs": [],
   "source": [
    "mp.dps = 25\n",
    "mp.pretty = True"
   ]
  },
  {
   "cell_type": "markdown",
   "id": "18e67ac2-3e69-43e0-a314-ceb69c4f575a",
   "metadata": {},
   "source": [
    "<div style=\"font-family: 'Latin Modern Roman', Times, serif; font-size: 16px;\">\n",
    "<h1 style=\"font-size: 32px;\">$\\wp$-function</h1>\n",
    "</div>"
   ]
  },
  {
   "cell_type": "markdown",
   "id": "e52799d0-6e0d-4af8-b348-1bd919c6478e",
   "metadata": {},
   "source": [
    "<div style=\"font-family: 'Latin Modern Roman', Times, serif; font-size: 16px;\">\n",
    "\n",
    "Based on formulas <a href=\"https://dlmf.nist.gov/23.6\" target=\"_blank\">(23.6.1) and (23.6.5)</a> we can write\n",
    "$$\n",
    "    \\wp (z) = \\left( \\frac{\\pi}{2\\omega_1} \\theta_3(0,q)\\theta_4(0,q) \\frac{\\theta_2(\\pi z/(2\\omega_1),q)}{\\theta_1(\\pi z/(2\\omega_1),q)}  \\right)^2 + \\frac{\\pi^2}{12 \\omega_1^2} \\left( \\theta_2^4(0,q) + 2\\theta_4^4(0,q)\\right),\n",
    "$$\n",
    "where $\\theta_i$ are Jacobi theta functions, $\\omega_i$ are half-periods, $q=e^{i\\pi\\tau}$, $\\tau=\\omega_3/\\omega_1$, and \n",
    "$$\n",
    "     \\operatorname{Im}(\\tau)>0\n",
    "$$\n",
    "\n",
    "</div>"
   ]
  },
  {
   "cell_type": "markdown",
   "id": "5a21e10c-3701-47ad-a001-4d84972333e3",
   "metadata": {},
   "source": [
    "<div style=\"font-family: 'Latin Modern Roman', Times, serif; font-size: 16px;\">\n",
    "<h2 style=\"font-size: 24px;\">Half-periods</h2>\n",
    "</div>"
   ]
  },
  {
   "cell_type": "markdown",
   "id": "1eae5b27-7c8d-414e-a228-38ecdfaeb52d",
   "metadata": {},
   "source": [
    "<div style=\"font-family: 'Latin Modern Roman', Times, serif; font-size: 16px;\">\n",
    "Based on formulas <a href=\"https://dlmf.nist.gov/23.6\" target=\"_blank\">(23.6.16-17)</a> for a Legendre elliptic integral of the first kind we can  have\n",
    "$$\n",
    "{K}^{2}=(K\\left(k\\right))^{2}=\\omega_{1}^{2}(e_{1}-e_{3}),\n",
    "$$\n",
    "$$\n",
    "{K}'^{2}=(K\\left(k'\\right))^{2}=\\omega_{3}^{2}(e_{3}-e_{1}),\n",
    "$$\n",
    "where \n",
    "$$\n",
    "    k^2 = \\frac{e_2 - e_3}{e_1 - e_3}, \\quad k'^2=\\frac{e_1-e_2}{e_1-e_3}.\n",
    "$$\n",
    "So the half-periods are given by\n",
    "$$\n",
    "    \\omega_1 = \\pm \\frac{1}{\\sqrt{e_1-e_3}} K(k), \\quad \\omega_3 = \\pm \\frac{1}{\\sqrt{e_3 - e_1}}K(k').\n",
    "$$\n",
    "\n",
    "\n",
    "The choice of the appropriate sign for half-periods nie ma nie jest dokładnie określony. Bierze się to wprost z ich definicji $\\wp(z) = \\wp(z + 2m \\omega_1 + 2n\\omega_3)$, gdzie $m,n\\in N$. Ważne jest by zachodziło\n",
    "$$\n",
    "     \\operatorname{Im}(\\tau)>0.\n",
    "$$\n",
    "Więc wykożystujemu ten warunek w definicli $\\omega_1$ przez co nie musimy się nim martwić w  $\\omega_3$. By otrzymać $\\omega_2$ wystarczy użyć relacji <a href=\"https://dlmf.nist.gov/23.2\" target=\"_blank\">(23.2.1)</a>:\n",
    "$$\n",
    "    \\omega_1 + \\omega_2 + \\omega_3 = 0.\n",
    "$$\n",
    "</div>"
   ]
  },
  {
   "cell_type": "code",
   "execution_count": 56,
   "id": "05119f57-e58f-4e91-998c-e76c25a9be69",
   "metadata": {},
   "outputs": [],
   "source": [
    "def Omega1(g2, g3):\n",
    "    # Współczynniki wielomianu 4*x**3 - g2*x - g3 = 0\n",
    "    coeffs = [4, 0, -g2, -g3]\n",
    "\n",
    "    # Znajdowanie pierwiastków numerycznych\n",
    "    roots = np.roots(coeffs)\n",
    "    \n",
    "    # Sortowanie pierwiastków tak jak w SymPy\n",
    "    roots = np.sort_complex(roots)\n",
    "    e1, e2, e3 = roots\n",
    "\n",
    "    # Obliczenie parametrów k^2 i k'^2\n",
    "    ksqr = (e2 - e3) / (e1 - e3)\n",
    "    ksqrp = (e1 - e2) / (e1 - e3)\n",
    "\n",
    "\n",
    "    # Obliczenie omega1 i omega3 przy użyciu mpmath\n",
    "    omega1 = (1 / sqrt(e1 - e3)) * ellipk(ksqr)\n",
    "    omega3 = (1 / sqrt(e3 - e1)) * ellipk( ksqrp)\n",
    "\n",
    "    # Obliczenie Im(tau)\n",
    "    Imtau = (omega3 / omega1).imag\n",
    "\n",
    "    # Warunek wyboru wartości omega1\n",
    "    res = omega1 if Imtau > 0 else -omega1\n",
    "\n",
    "    return res"
   ]
  },
  {
   "cell_type": "code",
   "execution_count": 60,
   "id": "0af5a88c-2ed5-4b62-aae5-92a6cb448909",
   "metadata": {},
   "outputs": [],
   "source": [
    "def Omega3(g2,g3):\n",
    "    # Współczynniki wielomianu 4*x**3 - g2*x - g3 = 0\n",
    "    coeffs = [4, 0, -g2, -g3]\n",
    "\n",
    "    # Znajdowanie pierwiastków numerycznych\n",
    "    roots = np.roots(coeffs)\n",
    "    \n",
    "    # Sortowanie pierwiastków tak jak w SymPy\n",
    "    roots = np.sort_complex(roots)\n",
    "    e1, e2, e3 = roots\n",
    "\n",
    "    # Obliczenie parametru k'^2\n",
    "    ksqrp = (e1-e2)/(e1-e3)\n",
    "\n",
    "    # Obliczenie omega3 przy użyciu mpmath\n",
    "    omega3= (1/sqrt(e3-e1))*ellipk(ksqrp)\n",
    "\n",
    "    return omega3"
   ]
  },
  {
   "cell_type": "code",
   "execution_count": 61,
   "id": "9f0ddf16-a996-464e-8c4a-86e6da15fd3b",
   "metadata": {},
   "outputs": [],
   "source": [
    "def Omega2(g2,g3):\n",
    "    res = -Omega1(g2,g3) - Omega3(g2,g3)\n",
    "    return res"
   ]
  },
  {
   "cell_type": "markdown",
   "id": "60cbdf16-712c-4dcc-9a51-1997b65c0145",
   "metadata": {},
   "source": [
    "<div style=\"font-family: 'Latin Modern Roman', Times, serif; font-size: 16px;\">\n",
    "<h2 style=\"font-size: 24px;\">$\\wp$</h2>\n",
    "</div>"
   ]
  },
  {
   "cell_type": "markdown",
   "id": "deb4a20a-987f-4966-96a2-af7cb9638765",
   "metadata": {},
   "source": [
    "<div style=\"font-family: 'Latin Modern Roman', Times, serif; font-size: 16px;\">\n",
    "\n",
    "Now using the encoded half-periods and the Jacobi thet encoded in the `mpmath` package, one can present a code for the Weierstrass elliptic function\n",
    "</div>"
   ]
  },
  {
   "cell_type": "code",
   "execution_count": 128,
   "id": "e24a8b68-895f-40a7-962f-2ff7a3723603",
   "metadata": {},
   "outputs": [],
   "source": [
    "def WeierstrassP(z,g2,g3):\n",
    "    q = qfrom(tau=Omega3(g2,g3)/Omega1(g2,g3))\n",
    "    FirstCase = (pi/(2*Omega1(g2,g3))) *jtheta(3, 0,q) *jtheta(4, 0, q) * jtheta(2, pi*z/(2*Omega1(g2,g3)),q)/jtheta(1, pi*z/(2*Omega1(g2,g3)),q)\n",
    "    SecondCase = (1/12)*(pi/Omega1(g2,g3))**2 * (jtheta(2, 0,q)**4 + 2*jtheta(4, 0,q)**4)\n",
    "    res = FirstCase**2 + SecondCase\n",
    "    return res"
   ]
  },
  {
   "cell_type": "markdown",
   "id": "bf9aead3-81a1-4910-9ca7-8c0c06a45407",
   "metadata": {},
   "source": [
    "<div style=\"font-family: 'Latin Modern Roman', Times, serif; font-size: 16px;\">\n",
    "<h2 style=\"font-size: 24px;\">$\\wp^{-1}$</h2>\n",
    "</div>"
   ]
  },
  {
   "cell_type": "markdown",
   "id": "c0b70969-c378-4d71-8296-a56e8548d069",
   "metadata": {},
   "source": [
    "<div style=\"font-family: 'Latin Modern Roman', Times, serif; font-size: 16px;\">\n",
    "\n",
    "Based on formulas <a href=\"https://dlmf.nist.gov/23.6\" target=\"_blank\">(23.6.30)</a> for $t=\\wp(z)$ we can write\n",
    "$$\n",
    "    \\wp^{-1}(t)=z = \\frac{1}{2} \\int^\\infty_t \\frac{du}{\\sqrt{(u-e_1)(u-e_2)(u-e_3)}}.\n",
    "$$\n",
    "Now we can use a definition of  <a href=\"https://en.wikipedia.org/wiki/Carlson_symmetric_form\" target=\"_blank\">Carlos elliptic integrals</a>:\n",
    "$$\n",
    "    R_F (x,y,z) = \\frac{1}{2} \\int^\\infty_0 \\frac{ds}{(s+x)(s+y)(s+z)}\n",
    "$$\n",
    "and by making a substitutuin $s+t=u$ notice that\n",
    "$$\n",
    "    \\wp^{-1}(t) = R_F (z-e_1,z-e_2,z-e_3)\n",
    "$$\n",
    "\n",
    "</div>"
   ]
  },
  {
   "cell_type": "code",
   "execution_count": 129,
   "id": "41164e7d-44d4-419d-83cc-5d16e98fbb68",
   "metadata": {},
   "outputs": [],
   "source": [
    "def InverseWeierstrassP(z,g2,g3):\n",
    "    # Współczynniki wielomianu 4*x**3 - g2*x - g3 = 0\n",
    "    coeffs = [4, 0, -g2, -g3]\n",
    "\n",
    "    # Znajdowanie pierwiastków numerycznych\n",
    "    roots = np.roots(coeffs)\n",
    "    \n",
    "    # Sortowanie pierwiastków tak jak w SymPy\n",
    "    roots = np.sort_complex(roots)\n",
    "    e1, e2, e3 = roots\n",
    "    \n",
    "    return elliprf(z-e1, z-e2, z-e3)"
   ]
  },
  {
   "cell_type": "markdown",
   "id": "8db12c7b-484a-40c0-b48f-aeb39baf6912",
   "metadata": {},
   "source": [
    "<div style=\"font-family: 'Latin Modern Roman', Times, serif; font-size: 16px;\">\n",
    "<h2 style=\"font-size: 24px;\">$\\wp'$</h2>\n",
    "</div>"
   ]
  },
  {
   "cell_type": "markdown",
   "id": "481ad5fd-b231-4629-b90c-3a5c9b9306fa",
   "metadata": {},
   "source": [
    "<div style=\"font-family: 'Latin Modern Roman', Times, serif; font-size: 16px;\">\n",
    "\n",
    "Now using formula provided by  <a href=\"https://functions.wolfram.com/EllipticFunctions/WeierstrassPPrime/27/02/03/0001/\" target=\"_blank\">Wolfram</a>\n",
    "$$\n",
    "    \\wp'(z) = - \\frac{\\pi^3}{4\\omega_1^3} \\frac{\\theta_2 \\left( \\frac{\\pi z}{2\\omega_1},q \\right)\\theta_3 \\left( \\frac{\\pi z}{2\\omega_1},q \\right)\\theta_4 \\left( \\frac{\\pi z}{2\\omega_1},q \\right)\\theta'_1 \\left( 0,q \\right)^3}{\\theta_2 \\left( 0,q \\right)\\theta_3 \\left( 0,q \\right)\\theta_4 \\left( 0,q \\right)\\theta_1 \\left( \\frac{\\pi z}{2\\omega_1},q \\right)^3}\n",
    "$$\n",
    "\n",
    "</div>"
   ]
  },
  {
   "cell_type": "markdown",
   "id": "c032248e-113b-42f5-aea1-565dadfb4d05",
   "metadata": {},
   "source": [
    "<div style=\"font-family: 'Latin Modern Roman', Times, serif; font-size: 16px;\">\n",
    "<h1 style=\"font-size: 32px;\">$\\sigma$-function</h1>\n",
    "</div>"
   ]
  },
  {
   "cell_type": "markdown",
   "id": "a5b77e90-8cf3-475d-9337-db97c7b4fe68",
   "metadata": {},
   "source": [
    "<div style=\"font-family: 'Latin Modern Roman', Times, serif; font-size: 16px;\">\n",
    "\n",
    "As in previous section based on formulas <a href=\"https://dlmf.nist.gov/23.6\" target=\"_blank\">(23.6.8-9)</a> we can write\n",
    "$$\n",
    "    \\sigma (z) = 2 \\omega_1 \\exp{\\left( \\frac{\\eta_1 z^2}{2 \\omega_1} \\right)} \\frac{\\theta_1(\\pi z/(2 \\omega_1),q)}{\\pi \\theta '_1 (0,q)},\n",
    "$$\n",
    "where\n",
    "$$\n",
    "    \\eta_1 = - \\frac{\\pi^2}{12 \\omega_1} \\frac{\\theta_1 ''' (0,q)}{\\theta_1'(0,q)}\n",
    "$$\n",
    "\n",
    "</div>"
   ]
  },
  {
   "cell_type": "code",
   "execution_count": 124,
   "id": "b409cc46-f466-45ed-8e98-cf572e28a1c8",
   "metadata": {},
   "outputs": [],
   "source": [
    "def eta1(g2,g3):\n",
    "    q = qfrom(tau=Omega3(g2,g3)/Omega1(g2,g3))\n",
    "    res = - (pi**2/(12*Omega1(g2,g3))) * (jtheta(1, 0, q, derivative=3)/jtheta(1, 0, q, derivative=1))\n",
    "    return res"
   ]
  },
  {
   "cell_type": "code",
   "execution_count": 125,
   "id": "4bebaafe-d0e2-4ba9-8e6c-6a324562e462",
   "metadata": {},
   "outputs": [],
   "source": [
    "def WeierstrassSigma(z,g2,g3):\n",
    "    q = qfrom(tau=Omega3(g2,g3)/Omega1(g2,g3))\n",
    "    Exp = exp((eta1(g2, g3) * z**2) / (2 * Omega1(g2, g3)))\n",
    "    res = 2*Omega1(g2,g3)*Exp * (jtheta(1, pi * z/(2*Omega1(g2,g3)),q)/(pi*jtheta(1, 0, q, derivative=1)))\n",
    "    return res"
   ]
  },
  {
   "cell_type": "markdown",
   "id": "6c97ed53-d105-4822-8bef-de9c6a7ce766",
   "metadata": {},
   "source": [
    "<div style=\"font-family: 'Latin Modern Roman', Times, serif; font-size: 16px;\">\n",
    "<h1 style=\"font-size: 32px;\">$\\zeta$-function</h1>\n",
    "</div>"
   ]
  },
  {
   "cell_type": "markdown",
   "id": "fc965b46-46b8-47a5-91dc-c0a261deb369",
   "metadata": {},
   "source": [
    "<div style=\"font-family: 'Latin Modern Roman', Times, serif; font-size: 16px;\">\n",
    "\n",
    "Here also based on basic property of $\\zeta$ function <a href=\"https://dlmf.nist.gov/23.2\" target=\"_blank\">(23.2.8)</a> we can write\n",
    "$$\n",
    "    \\zeta (z) = \\frac{\\sigma'(z)}{\\sigma(z)} = \\frac{\\eta_1}{\\omega_1} z + \\frac{\\theta'_1(\\pi z/(2 \\omega_1),q)}{\\theta_1(\\pi z/(2 \\omega_1),q)} .\n",
    "$$\n",
    "</div>"
   ]
  },
  {
   "cell_type": "code",
   "execution_count": 114,
   "id": "6f7f7e37-f694-4ff5-ac23-f7c8d020cb93",
   "metadata": {},
   "outputs": [],
   "source": [
    "def WeierstrassZeta(z,g2,g3):\n",
    "    q = qfrom(tau=Omega3(g2,g3)/Omega1(g2,g3))\n",
    "    firstP = eta1(g2,g3) * z/Omega1(g2,g3)\n",
    "    secondP =  pi/(2*Omega1(g2,g3)) *jtheta(1,  pi * z/(2*Omega1(g2,g3)), q, derivative=1)/jtheta(1,  pi * z/(2*Omega1(g2,g3)), q)\n",
    "    return firstP + secondP"
   ]
  },
  {
   "cell_type": "markdown",
   "id": "355d7610-c4b1-49ed-83a9-df5dd0518a7a",
   "metadata": {},
   "source": [
    "<div style=\"font-family: 'Latin Modern Roman', Times, serif; font-size: 16px;\">\n",
    "<h1 style=\"font-size: 32px;\">Tests</h1>\n",
    "</div>"
   ]
  },
  {
   "cell_type": "markdown",
   "id": "d6206c9b-54ad-459b-a8fd-8b475f33e37d",
   "metadata": {},
   "source": [
    "wp=WeierstrassP(1.2321, 1.234, -4.213)\n",
    "InverseWeierstrassP(wp, 1.234, -4.213)h"
   ]
  },
  {
   "cell_type": "code",
   "execution_count": 121,
   "id": "0bd947a7-4eaa-4ace-b2d8-2a0656bb1dd7",
   "metadata": {},
   "outputs": [
    {
     "data": {
      "text/plain": [
       "(0.4106033346576670977448281 - 1.060623335761549486890412e-16j)"
      ]
     },
     "execution_count": 121,
     "metadata": {},
     "output_type": "execute_result"
    }
   ],
   "source": [
    "WeierstrassP(1.2321, 1.234, -4.213)"
   ]
  },
  {
   "cell_type": "code",
   "execution_count": 127,
   "id": "b674cdb1-d734-41b6-bf76-0ba161773a6c",
   "metadata": {},
   "outputs": [
    {
     "data": {
      "text/plain": [
       "(1.232100000000000037455484 + 5.314276203772776641693722e-17j)"
      ]
     },
     "execution_count": 127,
     "metadata": {},
     "output_type": "execute_result"
    }
   ],
   "source": [
    "wp=WeierstrassP(1.2321, 1.234, -4.213)\n",
    "InverseWeierstrassP(wp, 1.234, -4.213)"
   ]
  },
  {
   "cell_type": "code",
   "execution_count": null,
   "id": "6493859c-6e08-4a75-9eae-2bbbe0ff6673",
   "metadata": {},
   "outputs": [],
   "source": []
  }
 ],
 "metadata": {
  "kernelspec": {
   "display_name": "Python 3 (ipykernel)",
   "language": "python",
   "name": "python3"
  },
  "language_info": {
   "codemirror_mode": {
    "name": "ipython",
    "version": 3
   },
   "file_extension": ".py",
   "mimetype": "text/x-python",
   "name": "python",
   "nbconvert_exporter": "python",
   "pygments_lexer": "ipython3",
   "version": "3.13.1"
  }
 },
 "nbformat": 4,
 "nbformat_minor": 5
}
