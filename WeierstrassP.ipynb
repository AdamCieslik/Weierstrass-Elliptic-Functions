{
 "cells": [
  {
   "cell_type": "markdown",
   "id": "352ee8a3-6a8b-4da8-a866-80fc1af3dadd",
   "metadata": {},
   "source": [
    "<div style=\"font-family: 'Latin Modern Roman', Times, serif; font-size: 16px;\">\n",
    "<h1 style=\"font-size: 32px;\">Introduction</h1>\n",
    "</div>"
   ]
  },
  {
   "cell_type": "markdown",
   "id": "72c618d7-8155-4d4a-98f0-955b9f3a209e",
   "metadata": {},
   "source": [
    "<div style=\"font-family: 'Latin Modern Roman', Times, serif; font-size: 16px;\">\n",
    "<p>\n",
    "    This notebook presents and discusses how to encode the Weierstrass elliptic functions, namely:\n",
    "<ul>\n",
    "    <li>$\\wp(z) = \\wp(z, g_2, g_3)$ – the Weierstrass $\\wp$ elliptic function for argument $z$, characterized by the lattice invariants $g_2$ and $g_3$.</li>\n",
    "     <li>$\\wp'(z) = \\wp'(z, g_2, g_3)$ – first defivative of the Weierstrass $\\wp$ elliptic function for argument $z$, characterized by the lattice invariants $g_2$ and $g_3$.</li>\n",
    "    <li>$\\sigma(z) = \\sigma(z, g_2, g_3)$ – the Weierstrass $\\sigma$ function for argument $z$, characterized by the lattice invariants $g_2$ and $g_3$.</li>\n",
    "    <li>$\\zeta(z) = \\zeta(z, g_2, g_3)$ – the Weierstrass $\\zeta$ function for argument $z$, characterized by the lattice invariants $g_2$ and $g_3$.</li>\n",
    "</ul>\n",
    "\n",
    "Additionally, the inverse function $\\wp^{-1}$ of the Weierstrass $\\wp$ function is introduced. The notebook also defines other useful quantities such as:\n",
    "<ul>\n",
    "    <li>$\\omega_i = \\omega_i (g_2, g_3)$ – the half-periods (or lattice generators) characterised by the lattice invariants $g_2$ and $g_3$.</li>\n",
    "    <li>$g_2, g_3$ – the lattice invariants expressed as functions of the half-periods $\\omega_1$ and $\\omega_3$.</li>\n",
    "    <li>Reduced argument $z$ to the fundamental domain</li>\n",
    "</ul>\n",
    "\n",
    "The functions presented here are equivalent to those available in Wolfram Mathematica 14 in the field of Weierstrass elliptic functions.\n",
    "\n",
    "The following two libraries are required to run the code:\n",
    "- <code style=\"color: rgb(81,206,9); font-size: 14px;\">mpmath</code> \n",
    "- <code style=\"color: rgb(81,206,9); font-size: 14px;\">numpy</code> \n",
    "\n",
    "The code is primarily based on definitions from the <a href=\"https://dlmf.nist.gov/23\" target=\"_blank\">DLMF</a> database but also references the <a href=\"https://functions.wolfram.com/EllipticFunctions\" target=\"_blank\">Wolfram</a> database and <a href=\"https://en.wikipedia.org/wiki/Carlson_symmetric_form\" target=\"_blank\">Wikipedia</a>.\n",
    "\n",
    "### **Author:**\n",
    "This notebook was created by Adam Cieślik.\n",
    "\n",
    "### **Python and Sage Libraries:**\n",
    "Based on this notebook, dedicated **Python** and **SageMath** libraries have been developed to facilitate the computation of Weierstrass elliptic functions.\n",
    "\n",
    "</p>\n",
    "</div>"
   ]
  },
  {
   "cell_type": "code",
   "execution_count": 2,
   "id": "5c59ac1e-4b4f-49fc-b9ff-d4300a4c7812",
   "metadata": {},
   "outputs": [],
   "source": [
    "from mpmath import *\n",
    "import numpy as np"
   ]
  },
  {
   "cell_type": "markdown",
   "id": "23a38146-c75d-4f7e-9b0f-e2ffdd33ba10",
   "metadata": {},
   "source": [
    "<div style=\"font-family: 'Latin Modern Roman', Times, serif; font-size: 16px;\">\n",
    "We set two important parameters:\n",
    "\n",
    "  <code style=\"color:  rgb(81,206,9);font-size: 14px;\">mp.dps = 25</code>: Specifies the precision of calculations to 25 decimal digits. By default, the precision is set to 15 digits, but you can adjust it to your needs.</li>\n",
    "\n",
    "  <code style=\"color:  rgb(81,206,9);font-size: 14px;\">mp.pretty = True</code>: Enables pretty formatting of results. When this option is active, mpmath displays results in a more readable way, e.g. by rounding the numbers and using mathematical notation.\n",
    "</ul>    \n",
    "</div>    "
   ]
  },
  {
   "cell_type": "code",
   "execution_count": 3,
   "id": "ed813713-d60d-482c-90d1-3c6db98df2be",
   "metadata": {},
   "outputs": [],
   "source": [
    "mp.dps = 25\n",
    "mp.pretty = True"
   ]
  },
  {
   "cell_type": "markdown",
   "id": "18e67ac2-3e69-43e0-a314-ceb69c4f575a",
   "metadata": {},
   "source": [
    "<div style=\"font-family: 'Latin Modern Roman', Times, serif; font-size: 16px;\">\n",
    "<h1 style=\"font-size: 32px;\">1. $\\wp$-function</h1>\n",
    "</div>"
   ]
  },
  {
   "cell_type": "markdown",
   "id": "e52799d0-6e0d-4af8-b348-1bd919c6478e",
   "metadata": {},
   "source": [
    "<div style=\"font-family: 'Latin Modern Roman', Times, serif; font-size: 16px;\">\n",
    "\n",
    "Based on formulas <a href=\"http://dlmf.nist.gov/23.6.E1\" target=\"_blank\">(23.6.1)</a> and <a href=\"http://dlmf.nist.gov/23.6.E5\" target=\"_blank\">(23.6.5)</a> we can write\n",
    "$$\n",
    "    \\wp (z) = \\left( \\frac{\\pi}{2\\omega_1} \\theta_3(0,q)\\theta_4(0,q) \\frac{\\theta_2(\\pi z/(2\\omega_1),q)}{\\theta_1(\\pi z/(2\\omega_1),q)}  \\right)^2 + \\frac{\\pi^2}{12 \\omega_1^2} \\left( \\theta_2^4(0,q) + 2\\theta_4^4(0,q)\\right),\n",
    "$$\n",
    "where $\\theta_i$ are Jacobi theta functions, $\\omega_i$ are half-periods, $q=e^{i\\pi\\tau}$, $\\tau=\\omega_3/\\omega_1$, and \n",
    "$$\n",
    "     \\operatorname{Im}(\\tau)>0\n",
    "$$\n",
    "\n",
    "</div>"
   ]
  },
  {
   "cell_type": "markdown",
   "id": "5a21e10c-3701-47ad-a001-4d84972333e3",
   "metadata": {},
   "source": [
    "<div style=\"font-family: 'Latin Modern Roman', Times, serif; font-size: 16px;\">\n",
    "<h2 style=\"font-size: 24px;\">1.1. $\\omega_j$ </h2>\n",
    "</div>"
   ]
  },
  {
   "cell_type": "markdown",
   "id": "1eae5b27-7c8d-414e-a228-38ecdfaeb52d",
   "metadata": {},
   "source": [
    "<div style=\"font-family: 'Latin Modern Roman', Times, serif; font-size: 16px;\">\n",
    "    \n",
    "Based on formulas <a href=\"http://dlmf.nist.gov/23.6.E16\" target=\"_blank\">(23.6.16-17)</a> for a Legendre elliptic integral of the first kind, we obtain:\n",
    "    \n",
    "$$\n",
    "    {K}^{2}=(K\\left(k\\right))^{2}=\\omega_{1}^{2}(e_{1}-e_{3}),\n",
    "$$\n",
    "    \n",
    "$$\n",
    "    {K}'^{2}=(K\\left(k'\\right))^{2}=\\omega_{3}^{2}(e_{3}-e_{1}),\n",
    "$$\n",
    "where \n",
    "$$\n",
    "    k^2 = \\frac{e_2 - e_3}{e_1 - e_3}, \\quad k'^2=\\frac{e_1-e_2}{e_1-e_3}.\n",
    "$$\n",
    "Thus, the half-periods are given by:\n",
    "$$\n",
    "    \\omega_1 = \\pm \\frac{1}{\\sqrt{e_1-e_3}} K(k), \\quad \\omega_3 = \\pm \\frac{1}{\\sqrt{e_3 - e_1}}K(k').\n",
    "$$\n",
    "\n",
    "\n",
    "TThe choice of the appropriate sign for the half-periods is not strictly defined. This arises directly from their definition: \n",
    "$$\n",
    "    \\wp(z) = \\wp(z + 2m \\omega_1 + 2n\\omega_3),\n",
    "$$\n",
    "where $m,n\\in N$. It is important that the condition\n",
    "$$\n",
    "     \\operatorname{Im}(\\tau)>0\n",
    "$$\n",
    "is satisfied.\n",
    "Thus, we make use of this condition in the definition of $\\omega_1$, so that we do not have to worry about it in $\\omega_3$. To obtain $\\omega_2$ we simply use the relation <a href=\"http://dlmf.nist.gov/23.2.E1\" target=\"_blank\">(23.2.1)</a>:\n",
    "$$\n",
    "    \\omega_1 + \\omega_2 + \\omega_3 = 0.\n",
    "$$\n",
    "\n",
    "</div>"
   ]
  },
  {
   "cell_type": "code",
   "execution_count": 4,
   "id": "05119f57-e58f-4e91-998c-e76c25a9be69",
   "metadata": {},
   "outputs": [],
   "source": [
    "def Omega1(g2, g3):\n",
    "    # Coefficients of the polynomial 4*x**3 - g2*x - g3 = 0\n",
    "    coeffs = [4, 0, -g2, -g3]\n",
    "\n",
    "    # Finding the roots\n",
    "    roots = np.roots(coeffs)\n",
    "    \n",
    "    # Sorting the roots\n",
    "    roots = np.sort_complex(roots)\n",
    "    e1, e2, e3 = roots\n",
    "\n",
    "    # Calculation of parameters k^2 and k'^2\n",
    "    ksqr = (e2 - e3) / (e1 - e3)\n",
    "    ksqrp = (e1 - e2) / (e1 - e3)\n",
    "\n",
    "\n",
    "    # Calculating omega1 and omega3\n",
    "    omega1 = (1 / sqrt(e1 - e3)) * ellipk(ksqr)\n",
    "    omega3 = (1 / sqrt(e3 - e1)) * ellipk( ksqrp)\n",
    "\n",
    "    # Calculation of the Im(tau)\n",
    "    Imtau = (omega3 / omega1).imag\n",
    "\n",
    "    # Condition for selecting omega1 sign\n",
    "    res = omega1 if Imtau > 0 else -omega1\n",
    "\n",
    "    return res"
   ]
  },
  {
   "cell_type": "code",
   "execution_count": 5,
   "id": "0af5a88c-2ed5-4b62-aae5-92a6cb448909",
   "metadata": {},
   "outputs": [],
   "source": [
    "def Omega3(g2,g3):\n",
    "    # Coefficients of the polynomial 4*x**3 - g2*x - g3 = 0\n",
    "    coeffs = [4, 0, -g2, -g3]\n",
    "\n",
    "    # Finding the roots\n",
    "    roots = np.roots(coeffs)\n",
    "    \n",
    "    # Sorting the roots\n",
    "    roots = np.sort_complex(roots)\n",
    "    e1, e2, e3 = roots\n",
    "\n",
    "    # Calculation of parameter k'^2\n",
    "    ksqrp = (e1-e2)/(e1-e3)\n",
    "\n",
    "    # Calculating omega3\n",
    "    omega3= (1/sqrt(e3-e1))*ellipk(ksqrp)\n",
    "\n",
    "    return omega3"
   ]
  },
  {
   "cell_type": "code",
   "execution_count": 6,
   "id": "9f0ddf16-a996-464e-8c4a-86e6da15fd3b",
   "metadata": {},
   "outputs": [],
   "source": [
    "def Omega2(g2,g3):\n",
    "    res = -Omega1(g2,g3) - Omega3(g2,g3)\n",
    "    return res"
   ]
  },
  {
   "cell_type": "markdown",
   "id": "8eb74118-977c-4688-a871-eaf8fe199cec",
   "metadata": {},
   "source": [
    "<div style=\"font-family: 'Latin Modern Roman', Times, serif; font-size: 16px;\">\n",
    "<h2 style=\"font-size: 24px;\">1.2. $g_2$, $g_3$ </h2>\n",
    "</div>"
   ]
  },
  {
   "cell_type": "markdown",
   "id": "33455413-d3e5-4ad2-a217-8122e0a0c460",
   "metadata": {},
   "source": [
    "<div style=\"font-family: 'Latin Modern Roman', Times, serif; font-size: 16px;\">\n",
    "\n",
    "The invariants can be calculated using the formula provided by   <a href=\"https://functions.wolfram.com/EllipticFunctions/WeierstrassInvariants/27/ShowAll.html\" target=\"_blank\">Wolfram</a>\n",
    "$$\n",
    "    g_2 = \\frac{1}{12} \\left( \\frac{\\pi}{\\omega_1} \\right)^4 \\left[ \\theta_2(0,q)^8 - \\theta_3(0,q)^4 \\theta_2(0,q)^4 + \\theta_3(0,q)^8 \\right] ,\n",
    "$$\n",
    "$$\n",
    "    g_3 = \\left( \\frac{\\pi}{2 \\omega_1} \\right)^6 \\left[ \\frac{8}{27} \\left( \\theta_2(0,q)^{12} + \\theta_3(0,q)^{12} \\right) - \\frac{4}{9}\\left( \\theta_2(0,q)^4 + \\theta_3(0,q)^4\\right) \\theta_2(0,q)^4 \\theta_3(0,q)^4 \\right].\n",
    "$$\n",
    "</div>"
   ]
  },
  {
   "cell_type": "code",
   "execution_count": 7,
   "id": "82010ab0-a068-4c7c-bbdc-18d67a7ccd0a",
   "metadata": {},
   "outputs": [],
   "source": [
    "def WeierstrassInvariants(omega1, omega3):\n",
    "    ttau = omega3 / omega1\n",
    "    if ttau.imag<0:\n",
    "        print(\"Im(tau)<0, change Omega1 or Omega3\")\n",
    "        \n",
    "    q = qfrom(tau=ttau)\n",
    "\n",
    "    # Calculation of g2 and g3\n",
    "    g2 = (pi**4 / (12 * omega1**4)) * (jtheta(2, 0, q)**8 - jtheta(3, 0, q)**4 * jtheta(2, 0, q)**4 + jtheta(3, 0, q)**8)\n",
    "    \n",
    "    g3 = (pi / (2 * omega1))**6 * ((8/27)*(jtheta(2, 0, q)**12 + jtheta(3, 0, q)**12)-(4/9)*(jtheta(2, 0, q)**4 +jtheta(3, 0, q)**4) * jtheta(2, 0, q)**4 * jtheta(3, 0, q)**4)\n",
    "\n",
    "    return (g2, g3)"
   ]
  },
  {
   "cell_type": "markdown",
   "id": "60cbdf16-712c-4dcc-9a51-1997b65c0145",
   "metadata": {},
   "source": [
    "<div style=\"font-family: 'Latin Modern Roman', Times, serif; font-size: 16px;\">\n",
    "<h2 style=\"font-size: 24px;\">1.3\n",
    "    . $\\wp$</h2>\n",
    "</div>"
   ]
  },
  {
   "cell_type": "markdown",
   "id": "deb4a20a-987f-4966-96a2-af7cb9638765",
   "metadata": {},
   "source": [
    "<div style=\"font-family: 'Latin Modern Roman', Times, serif; font-size: 16px;\">\n",
    "\n",
    "Now, using the encoded half-periods and the Jacobi theta functions encoded in the <code style=\"color:  rgb(81,206,9);font-size: 14px;\">mpmath</code> package, one can present a code for the Weierstrass elliptic function.\n",
    "</div>"
   ]
  },
  {
   "cell_type": "code",
   "execution_count": 8,
   "id": "e24a8b68-895f-40a7-962f-2ff7a3723603",
   "metadata": {},
   "outputs": [],
   "source": [
    "def WeierstrassP(z,g2,g3):\n",
    "    q = qfrom(tau=Omega3(g2,g3)/Omega1(g2,g3))\n",
    "    FirstCase = (pi/(2*Omega1(g2,g3))) *jtheta(3, 0,q) *jtheta(4, 0, q) * jtheta(2, pi*z/(2*Omega1(g2,g3)),q)/jtheta(1, pi*z/(2*Omega1(g2,g3)),q)\n",
    "    SecondCase = (1/12)*(pi/Omega1(g2,g3))**2 * (jtheta(2, 0,q)**4 + 2*jtheta(4, 0,q)**4)\n",
    "    res = FirstCase**2 + SecondCase\n",
    "    return res"
   ]
  },
  {
   "cell_type": "markdown",
   "id": "bf9aead3-81a1-4910-9ca7-8c0c06a45407",
   "metadata": {},
   "source": [
    "<div style=\"font-family: 'Latin Modern Roman', Times, serif; font-size: 16px;\">\n",
    "<h2 style=\"font-size: 24px;\">1.4. Fundamental region</h2>\n",
    "</div>\n",
    "\n",
    "<div style=\"font-family: 'Latin Modern Roman', Times, serif; font-size: 16px;\">\n",
    "<p>\n",
    "\n",
    "For elliptical functions, we can present all arguments as\n",
    "$$\n",
    "    z = z(\\mathbf{\\varepsilon}) = \\omega_1 \\varepsilon_1 + \\omega_3 \\varepsilon_2.\n",
    "$$\n",
    "where $\\varepsilon_1$, $\\varepsilon_2$, are called characteristics and $\\mathbf{\\varepsilon}=(\\varepsilon_1,\\varepsilon_2)$ is a characteristic vector. The region spanned by the characteristic vector, for which $\\varepsilon_1$, $\\varepsilon_2 \\in [0,2)$ holds, is called the fundamental domain (period-parallelograms,or meshes).\n",
    "\n",
    "From the periodicity condition\n",
    "$$\n",
    "    \\wp(z) = \\wp(z+2\\omega_1 n + 2\\omega_3 m)\n",
    "$$\n",
    "we see that, in order to obtain the appropriate value of the function, we may shift its argument. This can have numerical significance because our definition of the function $\\wp$ is based on the $\\theta_i$ function, which may be defined by a series. Therefore, the smaller the arguments, the faster the convergence of the series and, consequently, the easier it is to compute the correct value.\n",
    "\n",
    "In addition, when we calculate the inverse function of $\\wp^{-1}$, it is important to have a good \"point of reference\" against which we will compare the results.\n",
    "\n",
    "To convert the given argument $\\tilde{z}$ to its counterpart $z$ in the fundamental domain, we need to proceed as follows. First, note that, by setting\n",
    "$$\n",
    "    \\frac{1}{2}\\varepsilon_1 = \\nu, \\qquad \\frac{1}{2}\\varepsilon_2 = \\mu,\n",
    "$$\n",
    "we have\n",
    "$$\n",
    "    z = 2\\omega_1\\left( \\mu + \\nu\\tau \\right),\n",
    "$$\n",
    "where $\\mu$, $\\nu \\in \\mathbb{R}$ are defined uniquely modulo $\\mathbb{Z}$. For a given  $\\tilde{z}$, we want to find the appropriate integers   $n_1$ and $n_2$ such that\n",
    "$$\n",
    "    z = \\tilde{z} - 2\\omega_1 n - 2\\omega_3 m.\n",
    "$$\n",
    "From the above equations we can easily deduce that\n",
    "$$\n",
    "    c = \\omega_1^{-1}\\tilde{z} = 2\\mu+ 2n + ( \\nu + 2m)\\tau.\n",
    "$$\n",
    "In this way, $c$ is a complex number that already contains information about the coordinates $\\mathbf{\\mu}$ and $\\mathbf{\\nu}$ (although not yet separated into real and imaginary parts). Let us write this in a simplified form:\n",
    "$$\n",
    "    \\mathbf{c} = \\omega_1^{-1}\\tilde{z} = \\alpha + \\beta\\tau,\n",
    "$$\n",
    "where\n",
    "$$\n",
    "    \\alpha = 2(\\mu + n), \\qquad \\beta = 2(\\nu + m).\n",
    "$$\n",
    "We know that $\\tau$ has a positive imaginary part; therefore, to separate $c$ into its real and imaginary components, we can use the fact that the imaginary part depends only on $\\beta$. In particular,\n",
    "$$\n",
    "    \\operatorname{Im}(c) = \\operatorname{Im}(\\tau)\\beta,\n",
    "$$\n",
    "so that\n",
    "$$\n",
    "    \\beta = \\bigl[\\operatorname{Im}(\\tau)\\bigr]^{-1}\\operatorname{Im}(c).\n",
    "$$\n",
    "Then, having determined $\\beta$, we calculate\n",
    "$$\n",
    "    \\alpha = \\operatorname{Re}(c) - \\operatorname{Re}(\\tau)\\mathbf{\\beta}.\n",
    "$$\n",
    "\n",
    "Finally, having calculated the vectors $\\mathbf{\\alpha}$ and $\\mathbf{\\beta}$, we determine $\\mathbf{\\mu}$ and $\\mathbf{\\nu}$ by selecting the integer numbers $m$ and $n$ such that the resulting numbers lie in the range $[0,1)$. That is,\n",
    "$$\n",
    "    \\mu = \\frac{\\alpha}{2} - n = \\frac{\\alpha}{2} - \\lfloor \\alpha/2\\rfloor,\n",
    "$$\n",
    "$$\n",
    "    \\nu = \\frac{\\beta}{2} - m = \\frac{\\beta}{2} - \\lfloor \\beta/2 \\rfloor.\n",
    "$$\n",
    "\n",
    "Now we can encode the function that brings the argument $\\tilde{z}$ to the fundamental domain.\n",
    "</p>\n",
    "</div>"
   ]
  },
  {
   "cell_type": "code",
   "execution_count": 9,
   "id": "3c3da129-ce94-4526-9345-f9c0662a6e22",
   "metadata": {},
   "outputs": [],
   "source": [
    "def reduce_argument(tilde_z, g2,g3 ):\n",
    "    \n",
    "    oomega1 = Omega1(g2, g3) \n",
    "    oomega3 = Omega3(g2,g3)\n",
    "    ttau = oomega3/oomega1 \n",
    "    # Step 1: Convert tilde_z to c coordinates: c = omega^{-1} * tilde_z\n",
    "    c = (1/oomega1) * tilde_z \n",
    "    \n",
    "    # Step 2: Separating c into its imaginary part to find beta\n",
    "    Im_tau = ttau.imag\n",
    "    Im_c = c.imag\n",
    "    beta = (1/Im_tau) * Im_c  # beta ∈ R\n",
    "\n",
    "    # Step 3: Calculation of alpha\n",
    "    Re_tau = ttau.real\n",
    "    Re_c =  c.real\n",
    "    alpha = Re_c - Re_tau * beta  # alpha ∈ R\n",
    "    \n",
    "    # Step 4: Reducing the coordinates of mu and nu to the interval [0,1)\n",
    "    mu = alpha/2- floor(alpha/2)\n",
    "    nu = beta/2 - floor(beta/2)\n",
    "\n",
    "    # Step 5: Reconstruction of the reduced z\n",
    "    z_red =2* oomega1 * (mu + ttau * nu)\n",
    "    \n",
    "    return z_red"
   ]
  },
  {
   "cell_type": "markdown",
   "id": "3b01363b-2365-4a86-a7f6-305f22ad772f",
   "metadata": {},
   "source": [
    "<div style=\"font-family: 'Latin Modern Roman', Times, serif; font-size: 16px;\">\n",
    "<h2 style=\"font-size: 24px;\">1.5. $\\wp^{-1}$</h2>\n",
    "</div>"
   ]
  },
  {
   "cell_type": "markdown",
   "id": "c0b70969-c378-4d71-8296-a56e8548d069",
   "metadata": {},
   "source": [
    "<div style=\"font-family: 'Latin Modern Roman', Times, serif; font-size: 16px;\">\n",
    "\n",
    "Based on the formula <a href=\"http://dlmf.nist.gov/23.6.E30\" target=\"_blank\">(23.6.30)</a> for $t=\\wp(z)$, we can write:\n",
    "$$\n",
    "    \\wp^{-1}(t)=z = \\frac{1}{2} \\int^\\infty_t \\frac{du}{\\sqrt{(u-e_1)(u-e_2)(u-e_3)}}.\n",
    "$$\n",
    "Now, we can use the definition of <a href=\"https://en.wikipedia.org/wiki/Carlson_symmetric_form\" target=\"_blank\">Carloson's elliptic integrals</a>:\n",
    "$$\n",
    "    R_F (x,y,z) = \\frac{1}{2} \\int^\\infty_0 \\frac{ds}{(s+x)(s+y)(s+z)}\n",
    "$$\n",
    "and, by making the substitution $s+t=u$, we notice that:\n",
    "$$\n",
    "    \\wp^{-1}(t) = R_F (z-e_1,z-e_2,z-e_3)\n",
    "$$\n",
    "\n",
    "</div>"
   ]
  },
  {
   "cell_type": "code",
   "execution_count": 10,
   "id": "41164e7d-44d4-419d-83cc-5d16e98fbb68",
   "metadata": {},
   "outputs": [],
   "source": [
    "def InverseWeierstrassP(z,g2,g3):\n",
    "    # Coefficients of the polynomial 4*x**3 - g2*x - g3 = 0\n",
    "    coeffs = [4, 0, -g2, -g3]\n",
    "\n",
    "    # Finding the roots\n",
    "    roots = np.roots(coeffs)\n",
    "    \n",
    "    # Sorting the roots\n",
    "    roots = np.sort_complex(roots)\n",
    "    e1, e2, e3 = roots\n",
    "    \n",
    "    return elliprf(z-e1, z-e2, z-e3)"
   ]
  },
  {
   "cell_type": "markdown",
   "id": "8db12c7b-484a-40c0-b48f-aeb39baf6912",
   "metadata": {},
   "source": [
    "<div style=\"font-family: 'Latin Modern Roman', Times, serif; font-size: 16px;\">\n",
    "<h2 style=\"font-size: 24px;\">1.6. $\\wp'$</h2>\n",
    "</div>"
   ]
  },
  {
   "cell_type": "markdown",
   "id": "481ad5fd-b231-4629-b90c-3a5c9b9306fa",
   "metadata": {},
   "source": [
    "<div style=\"font-family: 'Latin Modern Roman', Times, serif; font-size: 16px;\">\n",
    "\n",
    "Now, using the formula provided by <a href=\"https://functions.wolfram.com/EllipticFunctions/WeierstrassPPrime/27/02/03/0001/\" target=\"_blank\">Wolfram</a>\n",
    "$$\n",
    "    \\wp'(z) = - \\frac{\\pi^3}{4\\omega_1^3} \\frac{\\theta_2 \\left( \\frac{\\pi z}{2\\omega_1},q \\right)\\theta_3 \\left( \\frac{\\pi z}{2\\omega_1},q \\right)\\theta_4 \\left( \\frac{\\pi z}{2\\omega_1},q \\right)\\theta'_1 \\left( 0,q \\right)^3}{\\theta_2 \\left( 0,q \\right)\\theta_3 \\left( 0,q \\right)\\theta_4 \\left( 0,q \\right)\\theta_1 \\left( \\frac{\\pi z}{2\\omega_1},q \\right)^3}\n",
    "$$\n",
    "\n",
    "</div>"
   ]
  },
  {
   "cell_type": "code",
   "execution_count": 11,
   "id": "3c0ec9d7-d2dd-485c-83ef-cf3f791b989c",
   "metadata": {},
   "outputs": [],
   "source": [
    "def WeierstrassPPrime(z,g2,g3):\n",
    "    q = qfrom(tau=Omega3(g2,g3)/Omega1(g2,g3))\n",
    "    numerator = jtheta(2, pi*z/(2*Omega1(g2,g3)),q)*jtheta(3, pi*z/(2*Omega1(g2,g3)),q)*jtheta(4, pi*z/(2*Omega1(g2,g3)),q)*(jtheta(1, 0, q, derivative=1)**3)\n",
    "    denominator = jtheta(2, 0,q)*jtheta(3, 0,q)*jtheta(4, 0,q)*(jtheta(1, pi*z/(2*Omega1(g2,g3)),q)**3)\n",
    "    res = -(1/4)*(pi/Omega1(g2,g3))**3 * (numerator/denominator)\n",
    "    return res"
   ]
  },
  {
   "cell_type": "markdown",
   "id": "c032248e-113b-42f5-aea1-565dadfb4d05",
   "metadata": {},
   "source": [
    "<div style=\"font-family: 'Latin Modern Roman', Times, serif; font-size: 16px;\">\n",
    "<h1 style=\"font-size: 32px;\">2. $\\sigma$-function</h1>\n",
    "</div>"
   ]
  },
  {
   "cell_type": "markdown",
   "id": "a5b77e90-8cf3-475d-9337-db97c7b4fe68",
   "metadata": {},
   "source": [
    "<div style=\"font-family: 'Latin Modern Roman', Times, serif; font-size: 16px;\">\n",
    "\n",
    "As in the previous section, based on formulas <a href=\"http://dlmf.nist.gov/23.6.E8\" target=\"_blank\">(23.6.8-9),</a> we can write\n",
    "$$\n",
    "    \\sigma (z) = 2 \\omega_1 \\exp{\\left( \\frac{\\eta_1 z^2}{2 \\omega_1} \\right)} \\frac{\\theta_1(\\pi z/(2 \\omega_1),q)}{\\pi \\theta '_1 (0,q)},\n",
    "$$\n",
    "where\n",
    "$$\n",
    "    \\eta_1 = - \\frac{\\pi^2}{12 \\omega_1} \\frac{\\theta_1 ''' (0,q)}{\\theta_1'(0,q)}\n",
    "$$\n",
    "\n",
    "</div>"
   ]
  },
  {
   "cell_type": "code",
   "execution_count": 12,
   "id": "b409cc46-f466-45ed-8e98-cf572e28a1c8",
   "metadata": {},
   "outputs": [],
   "source": [
    "def eta1(g2,g3):\n",
    "    q = qfrom(tau=Omega3(g2,g3)/Omega1(g2,g3))\n",
    "    res = - (pi**2/(12*Omega1(g2,g3))) * (jtheta(1, 0, q, derivative=3)/jtheta(1, 0, q, derivative=1))\n",
    "    return res"
   ]
  },
  {
   "cell_type": "code",
   "execution_count": 13,
   "id": "4bebaafe-d0e2-4ba9-8e6c-6a324562e462",
   "metadata": {},
   "outputs": [],
   "source": [
    "def WeierstrassSigma(z,g2,g3):\n",
    "    q = qfrom(tau=Omega3(g2,g3)/Omega1(g2,g3))\n",
    "    Exp = exp((eta1(g2, g3) * z**2) / (2 * Omega1(g2, g3)))\n",
    "    res = 2*Omega1(g2,g3)*Exp * (jtheta(1, pi * z/(2*Omega1(g2,g3)),q)/(pi*jtheta(1, 0, q, derivative=1)))\n",
    "    return res"
   ]
  },
  {
   "cell_type": "markdown",
   "id": "6c97ed53-d105-4822-8bef-de9c6a7ce766",
   "metadata": {},
   "source": [
    "<div style=\"font-family: 'Latin Modern Roman', Times, serif; font-size: 16px;\">\n",
    "<h1 style=\"font-size: 32px;\">3. $\\zeta$-function</h1>\n",
    "</div>"
   ]
  },
  {
   "cell_type": "markdown",
   "id": "fc965b46-46b8-47a5-91dc-c0a261deb369",
   "metadata": {},
   "source": [
    "<div style=\"font-family: 'Latin Modern Roman', Times, serif; font-size: 16px;\">\n",
    "\n",
    "Here, also based on the basic property of  $\\zeta$ function <a href=\"http://dlmf.nist.gov/23.2.E8\" target=\"_blank\">(23.2.8)</a>, we can write\n",
    "$$\n",
    "    \\zeta (z) = \\frac{\\sigma'(z)}{\\sigma(z)} = \\frac{\\eta_1}{\\omega_1} z + \\frac{\\theta'_1(\\pi z/(2 \\omega_1),q)}{\\theta_1(\\pi z/(2 \\omega_1),q)} .\n",
    "$$\n",
    "</div>"
   ]
  },
  {
   "cell_type": "code",
   "execution_count": 14,
   "id": "6f7f7e37-f694-4ff5-ac23-f7c8d020cb93",
   "metadata": {},
   "outputs": [],
   "source": [
    "def WeierstrassZeta(z,g2,g3):\n",
    "    q = qfrom(tau=Omega3(g2,g3)/Omega1(g2,g3))\n",
    "    firstP = eta1(g2,g3) * z/Omega1(g2,g3)\n",
    "    secondP =  pi/(2*Omega1(g2,g3)) *jtheta(1,  pi * z/(2*Omega1(g2,g3)), q, derivative=1)/jtheta(1,  pi * z/(2*Omega1(g2,g3)), q)\n",
    "    return firstP + secondP"
   ]
  },
  {
   "cell_type": "markdown",
   "id": "355d7610-c4b1-49ed-83a9-df5dd0518a7a",
   "metadata": {},
   "source": [
    "<div style=\"font-family: 'Latin Modern Roman', Times, serif; font-size: 16px;\">\n",
    "<h1 style=\"font-size: 32px;\">4. Tests</h1>\n",
    "</div>"
   ]
  },
  {
   "cell_type": "markdown",
   "id": "e290bfb7-e917-4852-80e2-63224f6cec20",
   "metadata": {},
   "source": [
    "<div style=\"font-family: 'Latin Modern Roman', Times, serif; font-size: 16px;\">\n",
    "\n",
    "As a test of the definitions presented above, we will check whether they satisfy the classical formulas presented in the <a href=\"https://dlmf.nist.gov/23\" target=\"_blank\">DLMF</a>  database\n",
    "\n",
    "</div>"
   ]
  },
  {
   "cell_type": "markdown",
   "id": "2052bdfe-9f73-47eb-b104-124e76ed5b27",
   "metadata": {},
   "source": [
    "<div style=\"font-family: 'Latin Modern Roman', Times, serif; font-size: 16px;\">\n",
    "<h2 style=\"font-size: 24px;\">4.1. Reduce argument</h2>\n",
    "</div>"
   ]
  },
  {
   "cell_type": "code",
   "execution_count": 58,
   "id": "a3da0fa1-4a00-420a-a9e1-b8a2195f06f9",
   "metadata": {},
   "outputs": [
    {
     "name": "stdout",
     "output_type": "stream",
     "text": [
      "Test: (-1.054655281005110285461046e-23 + 6.432315947499379217068928e-38j)\n"
     ]
    }
   ],
   "source": [
    "# All real roots\n",
    "\n",
    "# We choose invariants\n",
    "G2 = 28\n",
    "G3 = -4\n",
    "\n",
    "# Argument\n",
    "zz = 10.2321\n",
    "\n",
    "# Reduced argument\n",
    "rz=reduce_argument(zz,G2,G3)\n",
    "\n",
    "# Rregular value\n",
    "wp = WeierstrassP(zz,G2,G3)\n",
    "\n",
    "# After reduction \n",
    "wpr = WeierstrassP(rz,G2,G3)\n",
    "\n",
    "print(\"Test:\", wp- wpr)\n"
   ]
  },
  {
   "cell_type": "code",
   "execution_count": 16,
   "id": "7128e8a3-7f2b-49f8-8d8f-d103528a5482",
   "metadata": {},
   "outputs": [
    {
     "name": "stdout",
     "output_type": "stream",
     "text": [
      "Test: (8.271806125530276748714087e-25 - 4.135903062765138374357043e-25j)\n"
     ]
    }
   ],
   "source": [
    "# One complex root\n",
    "\n",
    "# We choose invariants\n",
    "G2 = - 24.4439 - 66.1409j\n",
    "G3 = 80.8878 + 132.282j\n",
    "\n",
    "# Argument\n",
    "zz = 10.2321\n",
    "\n",
    "# Reduced argument\n",
    "rz=reduce_argument(zz,G2,G3)\n",
    "\n",
    "# Rregular value\n",
    "wp = WeierstrassP(zz,G2,G3)\n",
    "\n",
    "# After reduction \n",
    "wpr = WeierstrassP(rz,G2,G3)\n",
    "\n",
    "print(\"Test:\", wp- wpr)"
   ]
  },
  {
   "cell_type": "code",
   "execution_count": 59,
   "id": "474584f8-716e-491b-9b4c-50ddd54e1dea",
   "metadata": {},
   "outputs": [
    {
     "name": "stdout",
     "output_type": "stream",
     "text": [
      "Test: (-3.877409121342317225959728e-26 + 1.981712768190875745340692e-25j)\n"
     ]
    }
   ],
   "source": [
    "# Two complex roots\n",
    "\n",
    "# We choose invariants\n",
    "G2 = 1.234\n",
    "G3 = -4.213\n",
    "\n",
    "# Argument\n",
    "zz = 10.2321\n",
    "\n",
    "# Reduced argument\n",
    "rz=reduce_argument(zz,G2,G3)\n",
    "\n",
    "# Rregular value\n",
    "wp = WeierstrassP(zz,G2,G3)\n",
    "\n",
    "# After reduction \n",
    "wpr = WeierstrassP(rz,G2,G3)\n",
    "\n",
    "print(\"Test:\", wp- wpr)"
   ]
  },
  {
   "cell_type": "code",
   "execution_count": 60,
   "id": "34bd4211-3688-48f5-a133-802cf381e9c6",
   "metadata": {},
   "outputs": [
    {
     "name": "stdout",
     "output_type": "stream",
     "text": [
      "Test: (2.584939414228211483973152e-25 + 1.809457589959748038781207e-25j)\n"
     ]
    }
   ],
   "source": [
    "# Three complex roots\n",
    "\n",
    "# We choose invariants\n",
    "G2 = -(36.1959 + 26.5329j)\n",
    "G3 = -(53.0658 - 40.3918j)\n",
    "\n",
    "# Argument\n",
    "zz = 10.2321\n",
    "\n",
    "# Reduced argument\n",
    "rz=reduce_argument(zz,G2,G3)\n",
    "\n",
    "# Rregular value\n",
    "wp = WeierstrassP(zz,G2,G3)\n",
    "\n",
    "# After reduction \n",
    "wpr = WeierstrassP(rz,G2,G3)\n",
    "\n",
    "print(\"Test:\", wp- wpr)"
   ]
  },
  {
   "cell_type": "markdown",
   "id": "0332c8a6-40ba-4b7b-a53f-8cab6fa8c560",
   "metadata": {},
   "source": [
    "<div style=\"font-family: 'Latin Modern Roman', Times, serif; font-size: 16px;\">\n",
    "<h2 style=\"font-size: 24px;\">4.2. Inverse function</h2>\n",
    "</div>"
   ]
  },
  {
   "cell_type": "code",
   "execution_count": 62,
   "id": "8440e2b6-ec95-4553-ab79-3d8e50222312",
   "metadata": {},
   "outputs": [
    {
     "name": "stdout",
     "output_type": "stream",
     "text": [
      "Test: (9.865660751359038861283672 + 1.623379729270097899916687e-39j)\n"
     ]
    }
   ],
   "source": [
    "# All real roots\n",
    "\n",
    "# We choose invariants\n",
    "G2 = 28\n",
    "G3 = -4\n",
    "\n",
    "# Argument\n",
    "zz = 10.2321\n",
    "\n",
    "wp = WeierstrassP(zz,G2,G3)\n",
    "print(\"Test:\", zz- InverseWeierstrassP(wp,G2,G3))"
   ]
  },
  {
   "cell_type": "markdown",
   "id": "51a31c71-4250-42b3-a294-f1aabdeefe2d",
   "metadata": {},
   "source": [
    "<div style=\"font-family: 'Latin Modern Roman', Times, serif; font-size: 16px;\">\n",
    "We can see that there is a big difference, but in reality everything works. We can show it like this:\n",
    "</div>"
   ]
  },
  {
   "cell_type": "code",
   "execution_count": 63,
   "id": "baf82706-526e-446a-bd46-82f04408c25a",
   "metadata": {},
   "outputs": [
    {
     "name": "stdout",
     "output_type": "stream",
     "text": [
      "Test: (-1.645657463196698350559716e-16 + 4.621076195850171932786951e-55j)\n"
     ]
    }
   ],
   "source": [
    "G2 = 28\n",
    "G3 = -4\n",
    "\n",
    "# Argument\n",
    "zz = 10.2321\n",
    "\n",
    "wp = WeierstrassP(zz,G2,G3)\n",
    "\n",
    "zInv= InverseWeierstrassP(wp,G2,G3)\n",
    "\n",
    "wpInv = WeierstrassP(zInv,G2,G3)\n",
    "\n",
    "print(\"Test:\", wp- wpInv)"
   ]
  },
  {
   "cell_type": "markdown",
   "id": "0b19eeb7-e37a-4908-894d-5e06c46b6f29",
   "metadata": {},
   "source": [
    "<div style=\"font-family: 'Latin Modern Roman', Times, serif; font-size: 16px;\">\n",
    "In general, arbitrary comparisons of the results of the inverse function do not make sense because $\\wp$ is periodic so we have many different arguments $z$ for which we get the same value. Therefore we should compare values after reduction to the fundamental region.\n",
    "</div>"
   ]
  },
  {
   "cell_type": "code",
   "execution_count": 65,
   "id": "525f85ef-4018-42be-8b9a-11a2982abb61",
   "metadata": {},
   "outputs": [
    {
     "name": "stdout",
     "output_type": "stream",
     "text": [
      "Test: (4.153289139083038579829742e-18 + 1.623379729270097899916687e-39j)\n"
     ]
    }
   ],
   "source": [
    "# We choose invariants\n",
    "G2 = 28\n",
    "G3 = -4\n",
    "# Argument\n",
    "zz = 10.2321\n",
    "# Reduced argument\n",
    "rz=reduce_argument(zz,G2,G3)\n",
    "\n",
    "wp = WeierstrassP(zz,G2,G3)\n",
    "# Inverted argument\n",
    "zinv=InverseWeierstrassP(wp,G2,G3)\n",
    "# Reduced argument\n",
    "rzinv=reduce_argument(zinv,G2,G3)\n",
    "\n",
    "print(\"Test:\", rz- rzinv)"
   ]
  },
  {
   "cell_type": "markdown",
   "id": "5135e807-8f23-4e30-8ab3-1aee1e38aa93",
   "metadata": {},
   "source": [
    "<div style=\"font-family: 'Latin Modern Roman', Times, serif; font-size: 16px;\">\n",
    "However, the best test is still to check if the $\\wp$ function returns the same, so we'll stick to that test\n",
    "</div>"
   ]
  },
  {
   "cell_type": "code",
   "execution_count": 66,
   "id": "dd1a2a12-4250-4c8a-b5ff-b569dc48a6e0",
   "metadata": {},
   "outputs": [
    {
     "name": "stdout",
     "output_type": "stream",
     "text": [
      "Test: (-5.869893053394364205384472e-16 - 2.392497561220918219515873e-15j)\n"
     ]
    }
   ],
   "source": [
    "#One complex root\n",
    "\n",
    "# We choose invariants\n",
    "G2 = - 24.4439 - 66.1409j\n",
    "G3 = 80.8878 + 132.282j\n",
    "\n",
    "# Argument\n",
    "zz = 10.2321\n",
    "\n",
    "wp = WeierstrassP(zz,G2,G3)\n",
    "\n",
    "zInv= InverseWeierstrassP(wp,G2,G3)\n",
    "\n",
    "wpInv = WeierstrassP(zInv,G2,G3)\n",
    "\n",
    "print(\"Test:\", wp- wpInv)"
   ]
  },
  {
   "cell_type": "code",
   "execution_count": 67,
   "id": "00c5c55d-124b-434b-89b5-140951418f30",
   "metadata": {},
   "outputs": [
    {
     "name": "stdout",
     "output_type": "stream",
     "text": [
      "Test: (1.943754486420073541485181e-16 + 3.411773133107818931284607e-17j)\n"
     ]
    }
   ],
   "source": [
    "# Two complex roots\n",
    "\n",
    "# We choose invariants\n",
    "G2 = 1.234\n",
    "G3 = -4.213\n",
    "\n",
    "# Argument\n",
    "\n",
    "zz = 10.2321\n",
    "wp = WeierstrassP(zz,G2,G3)\n",
    "\n",
    "zInv= InverseWeierstrassP(wp,G2,G3)\n",
    "\n",
    "wpInv = WeierstrassP(zInv,G2,G3)\n",
    "\n",
    "print(\"Test:\", wp- wpInv)"
   ]
  },
  {
   "cell_type": "code",
   "execution_count": 68,
   "id": "8404266a-557a-46e8-88d1-5397485a3d97",
   "metadata": {},
   "outputs": [
    {
     "name": "stdout",
     "output_type": "stream",
     "text": [
      "Test: (2.960235646336669733874125e-16 + 1.184148644083130212440064e-15j)\n"
     ]
    }
   ],
   "source": [
    "# Three complex roots\n",
    "\n",
    "# We choose invariants\n",
    "G2 = -(36.1959 + 26.5329j)\n",
    "G3 = -(53.0658 - 40.3918j)\n",
    "\n",
    "\n",
    "# Argument\n",
    "zz = 10.2321\n",
    "\n",
    "wp = WeierstrassP(zz,G2,G3)\n",
    "\n",
    "zInv= InverseWeierstrassP(wp,G2,G3)\n",
    "\n",
    "wpInv = WeierstrassP(zInv,G2,G3)\n",
    "\n",
    "print(\"Test:\", wp- wpInv)"
   ]
  },
  {
   "cell_type": "markdown",
   "id": "f4db99be-62ef-45df-a3c1-6ea78eb67adc",
   "metadata": {},
   "source": [
    "<div style=\"font-family: 'Latin Modern Roman', Times, serif; font-size: 16px;\">\n",
    "<h2 style=\"font-size: 24px;\">4.3. Periodicity</h2>\n",
    "</div>"
   ]
  },
  {
   "cell_type": "markdown",
   "id": "2e0ffd77-022e-4a1d-a03e-a58066c99203",
   "metadata": {},
   "source": [
    "<div style=\"background-color:  rgba(224, 224, 224, 0.25); \n",
    "    font-family: 'Latin Modern Roman', Times, serif; font-size: 16px; border: 1px solid  rgb(192, 192, 192); padding: 15px; border-radius: 5px; \">\n",
    "    <h4 style=\"font-size: 20px;color: rgb(160, 160, 160);\">Definition 4.3.1.</h4>\n",
    "    <p> For any half-periods $\\omega_j$ and $\\omega_k$, where $j=1,2,3$, $k=1,2,3$ and $j\\neq k$ we have (Eq.  <a href=\"http://dlmf.nist.gov/23.2.E9\" target=\"_blank\">(23.2.9)</a>):\n",
    "$$\n",
    "    \\wp(z+2m\\omega_j + 2n\\omega_k) = \\wp(z)\n",
    "$$\n",
    "   <p>\n",
    "   </div>   "
   ]
  },
  {
   "cell_type": "code",
   "execution_count": 29,
   "id": "8cbcb632-4e87-402b-afc4-1bca7a6f5fd5",
   "metadata": {},
   "outputs": [
    {
     "name": "stdout",
     "output_type": "stream",
     "text": [
      "test1= (-1.033975765691284593589261e-25 + 1.292469707114105741986576e-26j)\n",
      "test2= (2.584939414228211483973152e-25 - 2.584939414228211483973152e-25j)\n",
      "test2= (1.033975765691284593589261e-25 + 7.754818242684634451919456e-26j)\n",
      "test4= (3.205324873642982240126709e-24 + 1.938704560671158612979864e-24j)\n",
      "test5= (1.447566071967798431024965e-24 - 6.203854594147707561535565e-25j)\n",
      "test6= (2.429843049374518794934763e-24 - 1.641436528034914292322952e-24j)\n"
     ]
    }
   ],
   "source": [
    "# We choose invariants\n",
    "G2 = 1.895312\n",
    "G3 = -7.126521\n",
    "\n",
    "# Argument\n",
    "zz= 3.213 - j*0.213\n",
    "\n",
    "# Half-periods\n",
    "w1 = Omega1(G2,G3)\n",
    "w2 = Omega2(G2,G3)\n",
    "w3 = Omega3(G2,G3)\n",
    "\n",
    "# Tests for \n",
    "n=1\n",
    "m=1\n",
    "test1 = WeierstrassP(zz + 2*m*w1 + 2*n*w2,G2,G3)-WeierstrassP(zz,G2,G3)\n",
    "test2 = WeierstrassP(zz + 2*m*w1 + 2*n*w3,G2,G3)-WeierstrassP(zz,G2,G3)\n",
    "test3 = WeierstrassP(zz + 2*m*w2 + 2*n*w3,G2,G3)-WeierstrassP(zz,G2,G3)\n",
    "\n",
    "print(\"test1=\",test1)\n",
    "print(\"test2=\",test2)\n",
    "print(\"test2=\",test3)\n",
    "\n",
    "# Tests for \n",
    "n=10\n",
    "m=-7\n",
    "test4 = WeierstrassP(zz + 2*m*w1 + 2*n*w2,G2,G3)-WeierstrassP(zz,G2,G3)\n",
    "test5 = WeierstrassP(zz + 2*m*w1 + 2*n*w3,G2,G3)-WeierstrassP(zz,G2,G3)\n",
    "test6 = WeierstrassP(zz + 2*m*w2 + 2*n*w3,G2,G3)-WeierstrassP(zz,G2,G3)\n",
    "\n",
    "print(\"test4=\",test4)\n",
    "print(\"test5=\",test5)\n",
    "print(\"test6=\",test6)"
   ]
  },
  {
   "cell_type": "markdown",
   "id": "a0a18fe6-22e8-464c-849a-7e2477aa08d7",
   "metadata": {},
   "source": [
    "<div style=\"background-color:  rgba(224, 224, 224, 0.25); \n",
    "    font-family: 'Latin Modern Roman', Times, serif; font-size: 16px; border: 1px solid  rgb(192, 192, 192); padding: 15px; border-radius: 5px; \">\n",
    "    <h4 style=\"font-size: 20px;color: rgb(160, 160, 160);\">Definition 4.3.2.</h4>\n",
    "    <p> For any half-period $\\omega_j$, where $j=1,2,3$, we have (Eq. <a href=\"http://dlmf.nist.gov/23.2.E10\" target=\"_blank\">(23.2.10)</a>):\n",
    "$$\n",
    "    \\wp'(\\omega_j) = 0\n",
    "$$\n",
    "   <p>\n",
    "   </div>   "
   ]
  },
  {
   "cell_type": "code",
   "execution_count": 30,
   "id": "57912c08-a60e-408b-b1ea-32c995bab288",
   "metadata": {},
   "outputs": [
    {
     "name": "stdout",
     "output_type": "stream",
     "text": [
      "Pp(w1)= (-6.931760603104882576931517e-43 - 6.296721374115339483675423e-26j)\n",
      "Pp(w2)= (1.22721438984159158065958e-25 + 1.316070721200402623363533e-25j)\n",
      "Pp(w2)= (1.22721438984159158065958e-25 + 1.316070721200402623363533e-25j)\n"
     ]
    }
   ],
   "source": [
    "# We choose invariants\n",
    "G2 = 1.895312\n",
    "G3 = -7.126521\n",
    "\n",
    "# Half-periods\n",
    "w1 = Omega1(G2,G3)\n",
    "w2 = Omega2(G2,G3)\n",
    "w3 = Omega3(G2,G3)\n",
    "\n",
    "print(\"Pp(w1)=\", WeierstrassPPrime(w1,G2,G3))\n",
    "print(\"Pp(w2)=\", WeierstrassPPrime(w2,G2,G3))\n",
    "print(\"Pp(w2)=\", WeierstrassPPrime(w2,G2,G3))"
   ]
  },
  {
   "cell_type": "markdown",
   "id": "091f8d18-fb4b-4173-80b6-535dcfcbf90b",
   "metadata": {},
   "source": [
    "<div style=\"background-color:  rgba(224, 224, 224, 0.25); \n",
    "    font-family: 'Latin Modern Roman', Times, serif; font-size: 16px; border: 1px solid  rgb(192, 192, 192); padding: 15px; border-radius: 5px; \">\n",
    "    <h4 style=\"font-size: 20px;color: rgb(160, 160, 160);\">Definition 4.3.3.</h4>\n",
    "    <p> The function $\\zeta(z)$ is quasi-periodic and for $j=1,2,3$ satisfies (Eq.  <a href=\"http://dlmf.nist.gov/23.2.E11\" target=\"_blank\">(23.2.11)</a>):\n",
    "    $$\n",
    "        \\zeta(z+2\\omega_j) = \\zeta(z) + 2\\zeta(\\omega_j)\n",
    "    $$\n",
    "   <p>\n",
    "   </div>   "
   ]
  },
  {
   "cell_type": "code",
   "execution_count": 31,
   "id": "6f24d4ac-b57d-4452-826f-5f4b738aeea0",
   "metadata": {},
   "outputs": [
    {
     "name": "stdout",
     "output_type": "stream",
     "text": [
      "Test for w1 = (4.591554204828980849167322e-27 + 5.169878828456422967946304e-26j)\n",
      "Test for w2 = (-2.584939414228211483973152e-26 + 0.0j)\n",
      "Test for w3 = (-7.754818242684634451919456e-26 + 1.292469707114105741986576e-26j)\n"
     ]
    }
   ],
   "source": [
    "# We choose invariants\n",
    "G2 = 1.895312\n",
    "G3 = -7.126521\n",
    "\n",
    "# Argument\n",
    "zz = 3.213 - j*0.213\n",
    "\n",
    "# Half-periods\n",
    "w1 = Omega1(G2,G3)\n",
    "w2 = Omega2(G2,G3)\n",
    "w3 = Omega3(G2,G3)\n",
    "\n",
    "print(\"Test for w1 =\", WeierstrassZeta(zz+2*w1,G2,G3)-WeierstrassZeta(zz,G2,G3)-2*WeierstrassZeta(w1,G2,G3))\n",
    "print(\"Test for w2 =\", WeierstrassZeta(zz+2*w2,G2,G3)-WeierstrassZeta(zz,G2,G3)-2*WeierstrassZeta(w2,G2,G3))\n",
    "print(\"Test for w3 =\", WeierstrassZeta(zz+2*w3,G2,G3)-WeierstrassZeta(zz,G2,G3)-2*WeierstrassZeta(w3,G2,G3))"
   ]
  },
  {
   "cell_type": "markdown",
   "id": "c0d674f8-ec86-4950-97ea-c49e48d70c2a",
   "metadata": {},
   "source": [
    "<div style=\"background-color:  rgba(224, 224, 224, 0.25); \n",
    "    font-family: 'Latin Modern Roman', Times, serif; font-size: 16px; border: 1px solid  rgb(192, 192, 192); padding: 15px; border-radius: 5px; \">\n",
    "    <h4 style=\"font-size: 20px;color: rgb(160, 160, 160);\">Definition 4.3.4.</h4>\n",
    "    <p> The function $\\sigma(z)$ is quasi-periodic and for $j=1,2,3$ satisfies (Eq.  <a href=\"http://dlmf.nist.gov/23.2.E15\" target=\"_blank\">(23.2.15)</a>):\n",
    "    $$\n",
    "        \\sigma(z+2\\omega_j) = - e^{2\\eta_j (z+\\omega_j)}\\sigma(z), \\quad \\eta_j = \\zeta(\\omega_j)\n",
    "    $$\n",
    "   <p>\n",
    "   </div>   "
   ]
  },
  {
   "cell_type": "code",
   "execution_count": 32,
   "id": "b8255c08-b176-4540-9f8c-7f39b3457a09",
   "metadata": {},
   "outputs": [
    {
     "name": "stdout",
     "output_type": "stream",
     "text": [
      "Test for w1 = (-2.150669592637871954665663e-23 - 9.926167350636332098456904e-24j)\n",
      "Test for w2 = (-3.437969420923521273684292e-24 + 0.0j)\n",
      "Test for w3 = (-6.352747104407252543012419e-22 + 1.482307657695025593369564e-21j)\n"
     ]
    }
   ],
   "source": [
    "# We choose invariants\n",
    "G2 = 1.895312\n",
    "G3 = -7.126521\n",
    "\n",
    "# Argument\n",
    "zz = 3.213 - j*0.213\n",
    "\n",
    "# Half-periods\n",
    "w1 = Omega1(G2,G3)\n",
    "w2 = Omega2(G2,G3)\n",
    "w3 = Omega3(G2,G3)\n",
    "\n",
    "print(\"Test for w1 =\", WeierstrassSigma(zz+2*w1,G2,G3)+exp(2*WeierstrassZeta(w1,G2,G3)*(zz+w1))* WeierstrassSigma(zz,G2,G3))\n",
    "print(\"Test for w2 =\", WeierstrassSigma(zz+2*w2,G2,G3)+exp(2*WeierstrassZeta(w2,G2,G3)*(zz+w2))* WeierstrassSigma(zz,G2,G3))\n",
    "print(\"Test for w3 =\", WeierstrassSigma(zz+2*w3,G2,G3)+exp(2*WeierstrassZeta(w3,G2,G3)*(zz+w3))* WeierstrassSigma(zz,G2,G3))"
   ]
  },
  {
   "cell_type": "markdown",
   "id": "0db721f3-95c2-4b17-8a0d-5257b6d6cbf9",
   "metadata": {},
   "source": [
    "<div style=\"font-family: 'Latin Modern Roman', Times, serif; font-size: 16px;\">\n",
    "<h2 style=\"font-size: 24px;\">4.4. Differential equation</h2>\n",
    "</div>"
   ]
  },
  {
   "cell_type": "markdown",
   "id": "11634efb-8dfe-4a88-ad27-b4ad1a8eb0dc",
   "metadata": {},
   "source": [
    "<div style=\"background-color:  rgba(224, 224, 224, 0.25); \n",
    "    font-family: 'Latin Modern Roman', Times, serif; font-size: 16px; border: 1px solid  rgb(192, 192, 192); padding: 15px; border-radius: 5px; \">\n",
    "    <h4 style=\"font-size: 20px;color: rgb(160, 160, 160);\">Definition 4.4.1.</h4>\n",
    "    <p> \n",
    "        Then the $\\wp$-function satisfies the differential equation (Eq. <a href=\"http://dlmf.nist.gov/23.3.E10\" target=\"_blank\">(23.3.10)</a>)\n",
    "    $$\n",
    "        \\wp'^2(z) = 4 \\wp^3(z) - g_2 \\wp(z) -g_3\n",
    "    $$ \n",
    "   <p>\n",
    "   </div>  "
   ]
  },
  {
   "cell_type": "code",
   "execution_count": 33,
   "id": "1ad8a7e1-ec14-4735-ad27-efe848e41c75",
   "metadata": {},
   "outputs": [
    {
     "name": "stdout",
     "output_type": "stream",
     "text": [
      "Test= (-1.614271245345283503057947e-15 + 2.562300535517916121622207e-16j)\n"
     ]
    }
   ],
   "source": [
    "# We choose invariants\n",
    "G2 = 1.895312\n",
    "G3 = -7.126521\n",
    "\n",
    "# Argument\n",
    "zz = 3.213 - j*0.213\n",
    "\n",
    "left = WeierstrassPPrime(zz,G2,G3)**2\n",
    "right = 4*WeierstrassP(zz,G2,G3)**3 - G2*WeierstrassP(zz,G2,G3) - G3\n",
    "\n",
    "print(\"Test=\", left - right)"
   ]
  },
  {
   "cell_type": "markdown",
   "id": "bf5676b2-7c6d-424d-b891-3f5a0f578163",
   "metadata": {},
   "source": [
    "<div style=\"font-family: 'Latin Modern Roman', Times, serif; font-size: 16px;\">\n",
    "<h2 style=\"font-size: 24px;\">4.5. Roots</h2>\n",
    "</div>"
   ]
  },
  {
   "cell_type": "markdown",
   "id": "9114a23e-f334-41a0-a7a9-63bfbf638c3d",
   "metadata": {},
   "source": [
    "<div style=\"background-color:  rgba(224, 224, 224, 0.25); \n",
    "    font-family: 'Latin Modern Roman', Times, serif; font-size: 16px; border: 1px solid  rgb(192, 192, 192); padding: 15px; border-radius: 5px; \">\n",
    "    <h4 style=\"font-size: 20px;color: rgb(160, 160, 160);\">Definition 4.5.1.</h4>\n",
    "    <p> \n",
    "    Given any half-perods $\\omega_j$, $j=1,2,3$ we can identify the $e_j$ individually, via (Eq. <a href=\"http://dlmf.nist.gov/23.3.E9\" target=\"_blank\">23.3.9</a>)\n",
    "    $$\n",
    "        e_j = \\wp(\\omega_j)\n",
    "    $$\n",
    "   <p>\n",
    "   </div>  "
   ]
  },
  {
   "cell_type": "code",
   "execution_count": 34,
   "id": "8283b30d-9eec-4b98-8f26-9ffb00ede19c",
   "metadata": {},
   "outputs": [
    {
     "name": "stdout",
     "output_type": "stream",
     "text": [
      "e1 - wp(w1)= (1.324551388116140543331598e-16 - 3.49091863489540942883054e-18j)\n",
      "e2 - wp(w2)= (1.777149086210981423180532e-16 + 6.981837347299436801338255e-18j)\n",
      "e3 - wp(w3)= (1.324551388116140543331598e-16 - 3.490918686574415471810185e-18j)\n"
     ]
    }
   ],
   "source": [
    "# We choose invariants\n",
    "G2 = 1.895312\n",
    "G3 = -7.126521\n",
    "\n",
    "# Argument\n",
    "zz = 3.213 - j*0.213\n",
    "\n",
    "# Half-periods\n",
    "w1 = Omega1(G2,G3)\n",
    "w2 = Omega2(G2,G3)\n",
    "w3 = Omega3(G2,G3)\n",
    "\n",
    "# Coefficients of the polynomial 4*x**3 - g2*x - g3 = 0\n",
    "coeffs = [4, 0, -G2, -G3]\n",
    "\n",
    "# Finding the roots\n",
    "roots = np.roots(coeffs)\n",
    "    \n",
    "# Sorting the roots\n",
    "roots = np.sort_complex(roots)\n",
    "e1, e2, e3 = roots\n",
    "\n",
    "print(\"e1 - wp(w1)=\", e1 - WeierstrassP(w1,G2,G3) )\n",
    "print(\"e2 - wp(w2)=\", e2 - WeierstrassP(w2,G2,G3) )\n",
    "print(\"e3 - wp(w3)=\", e3 - WeierstrassP(w3,G2,G3) )"
   ]
  },
  {
   "cell_type": "markdown",
   "id": "aa8ff5c7-2c01-4716-acce-5688a971b664",
   "metadata": {},
   "source": [
    "<div style=\"font-family: 'Latin Modern Roman', Times, serif; font-size: 16px;\">\n",
    "<h2 style=\"font-size: 24px;\">4.6. Addition formulas</h2>\n",
    "</div>"
   ]
  },
  {
   "cell_type": "markdown",
   "id": "3c98f5b7-2b92-4a43-8efa-c7cc75f6ba32",
   "metadata": {},
   "source": [
    "<div style=\"background-color:  rgba(224, 224, 224, 0.25); \n",
    "    font-family: 'Latin Modern Roman', Times, serif; font-size: 16px; border: 1px solid  rgb(192, 192, 192); padding: 15px; border-radius: 5px; \">\n",
    "    <h4 style=\"font-size: 20px;color: rgb(160, 160, 160);\">Definition 4.6.1.</h4>\n",
    "    <p>\n",
    "    Let $u,v\\in\\mathbb{C}$, so that $u,v,u+v,u-v\\notin\\Lambda$. Then one has (Eq. <a href=\"http://dlmf.nist.gov/23.10.E1\" target=\"_blank\">23.10.1</a>):      \n",
    "    $$\n",
    "        \\wp(u+v) = \\frac{1}{4} \\left( \\frac{\\wp'(u) - \\wp'(v)}{\\wp(u) - \\wp(v)}\\right)^2 - \\wp(u) - \\wp(v)\n",
    "    $$ \n",
    "   <p>\n",
    "   </div>  "
   ]
  },
  {
   "cell_type": "code",
   "execution_count": 35,
   "id": "86afadd4-0165-4513-ba4f-776be715338c",
   "metadata": {},
   "outputs": [
    {
     "name": "stdout",
     "output_type": "stream",
     "text": [
      "Test= (2.235086292545507092537055e-16 - 4.717514430966485958251003e-25j)\n"
     ]
    }
   ],
   "source": [
    "# We choose invariants\n",
    "G2 = 1.895312\n",
    "G3 = -7.126521\n",
    "\n",
    "# Argument\n",
    "u = 3.213 - j*0.213\n",
    "v = 1.986 + j*1.218\n",
    "\n",
    "left = WeierstrassP(u + v,G2,G3)\n",
    "right = (1/4)*((WeierstrassPPrime(u,G2,G3)-WeierstrassPPrime(v,G2,G3))/(WeierstrassP(u,G2,G3)-WeierstrassP(v,G2,G3)))**2 - WeierstrassP(u,G2,G3) - WeierstrassP(v,G2,G3)\n",
    "print(\"Test=\", left-right)"
   ]
  },
  {
   "cell_type": "markdown",
   "id": "b242ca24-d5ae-4598-b077-59a67e724273",
   "metadata": {},
   "source": [
    "<div style=\"background-color:  rgba(224, 224, 224, 0.25); \n",
    "    font-family: 'Latin Modern Roman', Times, serif; font-size: 16px; border: 1px solid  rgb(192, 192, 192); padding: 15px; border-radius: 5px; \">\n",
    "    <h4 style=\"font-size: 20px;color: rgb(160, 160, 160);\">Definition 4.6.2.</h4>\n",
    "    <p> \n",
    "       Let $u,v\\in\\mathbb{C}$, so that $u,v,u+v,u-v\\notin\\Lambda$. Then one has (Eq. <a href=\"http://dlmf.nist.gov/23.10.E2\" target=\"_blank\">23.10.2</a>):      \n",
    "    $$\n",
    "        \\zeta(u+v) = \\zeta(u) + \\zeta(v) + \\frac{1}{2} \\frac{\\zeta''(u)-\\zeta''(v)}{\\zeta'(u) - \\zeta'(u)}\n",
    "    $$ \n",
    "        Hovewer we have Eq. <a href=\"http://dlmf.nist.gov/23.2.E7\" target=\"_blank\">23.2.7</a> $\\wp(z) = - \\zeta'(z)$, so\n",
    "    $$\n",
    "        \\zeta(u+v) = \\zeta(u) + \\zeta(v) + \\frac{1}{2} \\frac{\\wp'(u)-\\wp'(v)}{\\wp(u) - \\wp(u)}\n",
    "    $$     \n",
    "   <p>\n",
    "   </div>  "
   ]
  },
  {
   "cell_type": "code",
   "execution_count": 36,
   "id": "aee74bfc-f571-4990-bbfc-06bbce1473ae",
   "metadata": {},
   "outputs": [
    {
     "name": "stdout",
     "output_type": "stream",
     "text": [
      "Test= (-2.067951531382569187178522e-25 - 3.877409121342317225959728e-26j)\n"
     ]
    }
   ],
   "source": [
    "# We choose invariants\n",
    "G2 = 1.895312\n",
    "G3 = -7.126521\n",
    "\n",
    "# Argument\n",
    "u = 3.213 - j*0.213\n",
    "v = 1.986 + j*1.218\n",
    "\n",
    "left = WeierstrassZeta(u + v,G2,G3)\n",
    "right = WeierstrassZeta(u ,G2,G3) +WeierstrassZeta(v,G2,G3) + (1/2) *(WeierstrassPPrime(u,G2,G3)-WeierstrassPPrime(v,G2,G3))/(WeierstrassP(u,G2,G3)-WeierstrassP(v,G2,G3))\n",
    "print(\"Test=\", left-right)"
   ]
  },
  {
   "cell_type": "markdown",
   "id": "0e1d0e76-161e-4771-9333-bab4c0ecadb1",
   "metadata": {},
   "source": [
    "<div style=\"background-color:  rgba(224, 224, 224, 0.25); \n",
    "    font-family: 'Latin Modern Roman', Times, serif; font-size: 16px; border: 1px solid  rgb(192, 192, 192); padding: 15px; border-radius: 5px; \">\n",
    "    <h4 style=\"font-size: 20px;color: rgb(160, 160, 160);\">Definition 4.6.3.</h4>\n",
    "    <p> \n",
    "        Let $u,v\\in\\mathbb{C}$, so that $u,v,u+v,u-v\\notin\\Lambda$. Then one has (Eq. <a href=\"http://dlmf.nist.gov/23.10.E3\" target=\"_blank\">23.10.3</a>):      \n",
    "    $$\n",
    "        \\frac{\\sigma(u+v)\\sigma(u-v)}{\\sigma^2(u)\\sigma^2(v)} = \\wp(v) - \\wp(u)\n",
    "    $$ \n",
    "   <p>\n",
    "   </div>  "
   ]
  },
  {
   "cell_type": "code",
   "execution_count": 37,
   "id": "5fa0505b-1d55-4bf7-a31e-b4baa78f7677",
   "metadata": {},
   "outputs": [
    {
     "name": "stdout",
     "output_type": "stream",
     "text": [
      "Test= (1.075334796318935977332831e-23 - 3.101927297073853780767783e-24j)\n"
     ]
    }
   ],
   "source": [
    "# We choose invariants\n",
    "G2 = 1.895312\n",
    "G3 = -7.126521\n",
    "\n",
    "# Argument\n",
    "u = 3.213 - j*0.213\n",
    "v = 1.986 + j*1.218\n",
    "\n",
    "left = WeierstrassSigma(u + v,G2,G3)* WeierstrassSigma(u - v,G2,G3)/( WeierstrassSigma(u,G2,G3)**2 *  WeierstrassSigma(v,G2,G3)**2)\n",
    "right = WeierstrassP(v,G2,G3)-WeierstrassP(u,G2,G3)\n",
    "print(\"Test=\", left-right)"
   ]
  },
  {
   "cell_type": "code",
   "execution_count": null,
   "id": "2ff4f854-534f-468a-90c5-ec5470c44990",
   "metadata": {},
   "outputs": [],
   "source": []
  }
 ],
 "metadata": {
  "kernelspec": {
   "display_name": "Python 3 (ipykernel)",
   "language": "python",
   "name": "python3"
  },
  "language_info": {
   "codemirror_mode": {
    "name": "ipython",
    "version": 3
   },
   "file_extension": ".py",
   "mimetype": "text/x-python",
   "name": "python",
   "nbconvert_exporter": "python",
   "pygments_lexer": "ipython3",
   "version": "3.13.2"
  }
 },
 "nbformat": 4,
 "nbformat_minor": 5
}
