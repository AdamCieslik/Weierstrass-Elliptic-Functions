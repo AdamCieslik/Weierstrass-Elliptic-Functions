{
 "cells": [
  {
   "cell_type": "markdown",
   "id": "352ee8a3-6a8b-4da8-a866-80fc1af3dadd",
   "metadata": {},
   "source": [
    "<div style=\"font-family: 'Latin Modern Roman', Times, serif; font-size: 16px;\">\n",
    "<h1 style=\"font-size: 32px;\">Introduction</h1>\n",
    "</div>"
   ]
  },
  {
   "cell_type": "markdown",
   "id": "2ca5cbd2-406e-43e3-af04-0b42716c44dd",
   "metadata": {},
   "source": [
    "<div style=\"font-family: 'Latin Modern Roman', Times, serif; font-size: 16px;\">\n",
    "<p>\n",
    "    This notebook presents and discusses how to encode the Weierstrass Elliptic Functions, namely:\n",
    "    <ul>\n",
    "        <li>$\\wp(z) = \\wp(z, g_2, g_3)$ - Weierstrass $\\wp$ eliptic function for argument $z$ and characterised by lattice invariants $g_2$ and $g_3$ </li>\n",
    "        <li>$\\sigma(z) = \\sigma(z, g_2, g_3)$ - Weierstrass $\\sigma$ function for argument $z$ and characterised by lattice invariants $g_2$ and $g_3$ </li>\n",
    "        <li>$\\zeta(z) = \\zeta(z, g_2, g_3)$ - Weierstrass $\\zeta$ function for argument $z$ and characterised by lattice invariants $g_2$ and $g_3$ </li>\n",
    "    </ul>\n",
    "\n",
    "And the inverse function $\\wp^{-1}$ of Wieierstrass. Additionally, definitions of helpful quantities such as:\n",
    "    <ul>\n",
    "        <li>$\\omega_i = \\omega_i (g_2, g_3)$ - half periods or lattice generators characterised by lattice invariants $g_2$ and $g_3$ </li>\n",
    "        <li>$g_2, g_3$ - lattice invariants as a function of halperiods $\\omega_1$ and $\\omega_3$</li>\n",
    "    </ul>\n",
    "    \n",
    "The functions presented here are equivalent to what is currently available in Wolfram Mathematica 14 software in the field of Weierstrass Elliptic Functions.\n",
    "\n",
    "The following two libraries are required for work:\n",
    "- <code style=\"color:  rgb(81,206,9);font-size: 14px;\">mpmath</code> \n",
    "- <code style=\"color:  rgb(81,206,9);font-size: 14px;\">numpy</code> \n",
    "\n",
    "The code is mostly based on definitions from the  <a href=\"https://dlmf.nist.gov/23\" target=\"_blank\">DLMF</a>  database, but also on <a href=\"https://functions.wolfram.com/EllipticFunctions\" target=\"_blank\">Wolfram</a> database and <a href=\"https://en.wikipedia.org/wiki/Carlson_symmetric_form\" target=\"_blank\">Wikipedia</a>\n",
    "</p>\n",
    "</div>\n"
   ]
  },
  {
   "cell_type": "code",
   "execution_count": 38,
   "id": "5c59ac1e-4b4f-49fc-b9ff-d4300a4c7812",
   "metadata": {},
   "outputs": [],
   "source": [
    "from mpmath import *\n",
    "import numpy as np"
   ]
  },
  {
   "cell_type": "markdown",
   "id": "23a38146-c75d-4f7e-9b0f-e2ffdd33ba10",
   "metadata": {},
   "source": [
    "<div style=\"font-family: 'Latin Modern Roman', Times, serif; font-size: 16px;\">\n",
    "We set two important parameters:\n",
    "\n",
    "  <code style=\"color:  rgb(81,206,9);font-size: 14px;\">mp.dps = 25</code>: Specifies the precision of calculations to 25 decimal digits. By default, the precision is set to 15 digits, but you can adjust it to your needs.</li>\n",
    "\n",
    "  <code style=\"color:  rgb(81,206,9);font-size: 14px;\">mp.pretty = True</code>: Enables pretty formatting of results. When this option is active, mpmath displays results in a more readable way, e.g. by rounding the numbers and using mathematical notation.\n",
    "</ul>    \n",
    "</div>    "
   ]
  },
  {
   "cell_type": "code",
   "execution_count": 2,
   "id": "ed813713-d60d-482c-90d1-3c6db98df2be",
   "metadata": {},
   "outputs": [],
   "source": [
    "mp.dps = 25\n",
    "mp.pretty = True"
   ]
  },
  {
   "cell_type": "markdown",
   "id": "18e67ac2-3e69-43e0-a314-ceb69c4f575a",
   "metadata": {},
   "source": [
    "<div style=\"font-family: 'Latin Modern Roman', Times, serif; font-size: 16px;\">\n",
    "<h1 style=\"font-size: 32px;\">1. $\\wp$-function</h1>\n",
    "</div>"
   ]
  },
  {
   "cell_type": "markdown",
   "id": "e52799d0-6e0d-4af8-b348-1bd919c6478e",
   "metadata": {},
   "source": [
    "<div style=\"font-family: 'Latin Modern Roman', Times, serif; font-size: 16px;\">\n",
    "\n",
    "Based on formulas <a href=\"http://dlmf.nist.gov/23.6.E1\" target=\"_blank\">(23.6.1)</a> and <a href=\"http://dlmf.nist.gov/23.6.E5\" target=\"_blank\">(23.6.5)</a> we can write\n",
    "$$\n",
    "    \\wp (z) = \\left( \\frac{\\pi}{2\\omega_1} \\theta_3(0,q)\\theta_4(0,q) \\frac{\\theta_2(\\pi z/(2\\omega_1),q)}{\\theta_1(\\pi z/(2\\omega_1),q)}  \\right)^2 + \\frac{\\pi^2}{12 \\omega_1^2} \\left( \\theta_2^4(0,q) + 2\\theta_4^4(0,q)\\right),\n",
    "$$\n",
    "where $\\theta_i$ are Jacobi theta functions, $\\omega_i$ are half-periods, $q=e^{i\\pi\\tau}$, $\\tau=\\omega_3/\\omega_1$, and \n",
    "$$\n",
    "     \\operatorname{Im}(\\tau)>0\n",
    "$$\n",
    "\n",
    "</div>"
   ]
  },
  {
   "cell_type": "markdown",
   "id": "5a21e10c-3701-47ad-a001-4d84972333e3",
   "metadata": {},
   "source": [
    "<div style=\"font-family: 'Latin Modern Roman', Times, serif; font-size: 16px;\">\n",
    "<h2 style=\"font-size: 24px;\">1.1. $\\omega_j$ </h2>\n",
    "</div>"
   ]
  },
  {
   "cell_type": "markdown",
   "id": "1eae5b27-7c8d-414e-a228-38ecdfaeb52d",
   "metadata": {},
   "source": [
    "<div style=\"font-family: 'Latin Modern Roman', Times, serif; font-size: 16px;\">\n",
    "Based on formulas <a href=\"http://dlmf.nist.gov/23.6.E16\" target=\"_blank\">(23.6.16-17)</a> for a Legendre elliptic integral of the first kind we can  have\n",
    "$$\n",
    "{K}^{2}=(K\\left(k\\right))^{2}=\\omega_{1}^{2}(e_{1}-e_{3}),\n",
    "$$\n",
    "$$\n",
    "{K}'^{2}=(K\\left(k'\\right))^{2}=\\omega_{3}^{2}(e_{3}-e_{1}),\n",
    "$$\n",
    "where \n",
    "$$\n",
    "    k^2 = \\frac{e_2 - e_3}{e_1 - e_3}, \\quad k'^2=\\frac{e_1-e_2}{e_1-e_3}.\n",
    "$$\n",
    "So the half-periods are given by\n",
    "$$\n",
    "    \\omega_1 = \\pm \\frac{1}{\\sqrt{e_1-e_3}} K(k), \\quad \\omega_3 = \\pm \\frac{1}{\\sqrt{e_3 - e_1}}K(k').\n",
    "$$\n",
    "\n",
    "\n",
    "The choice of the appropriate sign for half-periods nie ma nie jest dokładnie określony. Bierze się to wprost z ich definicji $\\wp(z) = \\wp(z + 2m \\omega_1 + 2n\\omega_3)$, gdzie $m,n\\in N$. Ważne jest by zachodziło\n",
    "$$\n",
    "     \\operatorname{Im}(\\tau)>0.\n",
    "$$\n",
    "Więc wykożystujemu ten warunek w definicli $\\omega_1$ przez co nie musimy się nim martwić w  $\\omega_3$. By otrzymać $\\omega_2$ wystarczy użyć relacji  <a href=\"http://dlmf.nist.gov/23.2.E1\" target=\"_blank\">(23.2.1)</a>:\n",
    "$$\n",
    "    \\omega_1 + \\omega_2 + \\omega_3 = 0.\n",
    "$$\n",
    "</div>"
   ]
  },
  {
   "cell_type": "code",
   "execution_count": 3,
   "id": "05119f57-e58f-4e91-998c-e76c25a9be69",
   "metadata": {},
   "outputs": [],
   "source": [
    "def Omega1(g2, g3):\n",
    "    # Coefficients of the polynomial 4*x**3 - g2*x - g3 = 0\n",
    "    coeffs = [4, 0, -g2, -g3]\n",
    "\n",
    "    # Finding the roots\n",
    "    roots = np.roots(coeffs)\n",
    "    \n",
    "    # Sorting the roots\n",
    "    roots = np.sort_complex(roots)\n",
    "    e1, e2, e3 = roots\n",
    "\n",
    "    # Calculation of parameters k^2 and k'^2\n",
    "    ksqr = (e2 - e3) / (e1 - e3)\n",
    "    ksqrp = (e1 - e2) / (e1 - e3)\n",
    "\n",
    "\n",
    "    # Calculating omega1 and omega3\n",
    "    omega1 = (1 / sqrt(e1 - e3)) * ellipk(ksqr)\n",
    "    omega3 = (1 / sqrt(e3 - e1)) * ellipk( ksqrp)\n",
    "\n",
    "    # Calculation of the Im(tau)\n",
    "    Imtau = (omega3 / omega1).imag\n",
    "\n",
    "    # Condition for selecting omega1 sign\n",
    "    res = omega1 if Imtau > 0 else -omega1\n",
    "\n",
    "    return res"
   ]
  },
  {
   "cell_type": "code",
   "execution_count": 4,
   "id": "0af5a88c-2ed5-4b62-aae5-92a6cb448909",
   "metadata": {},
   "outputs": [],
   "source": [
    "def Omega3(g2,g3):\n",
    "    # Coefficients of the polynomial 4*x**3 - g2*x - g3 = 0\n",
    "    coeffs = [4, 0, -g2, -g3]\n",
    "\n",
    "    # Finding the roots\n",
    "    roots = np.roots(coeffs)\n",
    "    \n",
    "    # Sorting the roots\n",
    "    roots = np.sort_complex(roots)\n",
    "    e1, e2, e3 = roots\n",
    "\n",
    "    # Calculation of parameter k'^2\n",
    "    ksqrp = (e1-e2)/(e1-e3)\n",
    "\n",
    "    # Calculating omega3\n",
    "    omega3= (1/sqrt(e3-e1))*ellipk(ksqrp)\n",
    "\n",
    "    return omega3"
   ]
  },
  {
   "cell_type": "code",
   "execution_count": 5,
   "id": "9f0ddf16-a996-464e-8c4a-86e6da15fd3b",
   "metadata": {},
   "outputs": [],
   "source": [
    "def Omega2(g2,g3):\n",
    "    res = -Omega1(g2,g3) - Omega3(g2,g3)\n",
    "    return res"
   ]
  },
  {
   "cell_type": "markdown",
   "id": "8eb74118-977c-4688-a871-eaf8fe199cec",
   "metadata": {},
   "source": [
    "<div style=\"font-family: 'Latin Modern Roman', Times, serif; font-size: 16px;\">\n",
    "<h2 style=\"font-size: 24px;\">1.2. $g_2$, $g_3$ </h2>\n",
    "</div>"
   ]
  },
  {
   "cell_type": "markdown",
   "id": "33455413-d3e5-4ad2-a217-8122e0a0c460",
   "metadata": {},
   "source": [
    "<div style=\"font-family: 'Latin Modern Roman', Times, serif; font-size: 16px;\">\n",
    "\n",
    "The invariants can be calculated by using formula provided by  <a href=\"https://functions.wolfram.com/EllipticFunctions/WeierstrassInvariants/27/ShowAll.html\" target=\"_blank\">Wolfram</a>\n",
    "$$\n",
    "    g_2 = \\frac{1}{12} \\left( \\frac{\\pi}{\\omega_1} \\right)^4 \\left[ \\theta_2(0,q)^8 - \\theta_3(0,q)^4 \\theta_2(0,q)^4 + \\theta_3(0,q)^8 \\right] ,\n",
    "$$\n",
    "$$\n",
    "    g_3 = \\left( \\frac{\\pi}{2 \\omega_1} \\right)^6 \\left[ \\frac{8}{27} \\left( \\theta_2(0,q)^{12} + \\theta_3(0,q)^{12} \\right) - \\frac{4}{9}\\left( \\theta_2(0,q)^4 + \\theta_3(0,q)^4\\right) \\theta_2(0,q)^4 \\theta_3(0,q)^4 \\right].\n",
    "$$\n",
    "</div>"
   ]
  },
  {
   "cell_type": "code",
   "execution_count": 68,
   "id": "82010ab0-a068-4c7c-bbdc-18d67a7ccd0a",
   "metadata": {},
   "outputs": [],
   "source": [
    "def WeierstrassInvariants(omega1, omega3):\n",
    "    ttau = omega3 / omega1\n",
    "    if ttau.imag<0:\n",
    "        print(\"Im(tau)<0, change Omega1 or Omega3\")\n",
    "        \n",
    "    q = qfrom(tau=ttau)\n",
    "\n",
    "    # Calculation of g2 and g3\n",
    "    g2 = (pi**4 / (12 * omega1**4)) * (jtheta(2, 0, q)**8 - jtheta(3, 0, q)**4 * jtheta(2, 0, q)**4 + jtheta(3, 0, q)**8)\n",
    "    \n",
    "    g3 = (pi / (2 * omega1))**6 * ((8/27)*(jtheta(2, 0, q)**12 + jtheta(3, 0, q)**12)-(4/9)*(jtheta(2, 0, q)**4 +jtheta(3, 0, q)**4) * jtheta(2, 0, q)**4 * jtheta(3, 0, q)**4)\n",
    "\n",
    "    return (g2, g3)"
   ]
  },
  {
   "cell_type": "markdown",
   "id": "60cbdf16-712c-4dcc-9a51-1997b65c0145",
   "metadata": {},
   "source": [
    "<div style=\"font-family: 'Latin Modern Roman', Times, serif; font-size: 16px;\">\n",
    "<h2 style=\"font-size: 24px;\">1.2. $\\wp$</h2>\n",
    "</div>"
   ]
  },
  {
   "cell_type": "markdown",
   "id": "deb4a20a-987f-4966-96a2-af7cb9638765",
   "metadata": {},
   "source": [
    "<div style=\"font-family: 'Latin Modern Roman', Times, serif; font-size: 16px;\">\n",
    "\n",
    "Now using the encoded half-periods and the Jacobi thet encoded in the <code style=\"color:  rgb(81,206,9);font-size: 14px;\">mpmath</code> package, one can present a code for the Weierstrass elliptic function\n",
    "</div>"
   ]
  },
  {
   "cell_type": "code",
   "execution_count": 6,
   "id": "e24a8b68-895f-40a7-962f-2ff7a3723603",
   "metadata": {},
   "outputs": [],
   "source": [
    "def WeierstrassP(z,g2,g3):\n",
    "    q = qfrom(tau=Omega3(g2,g3)/Omega1(g2,g3))\n",
    "    FirstCase = (pi/(2*Omega1(g2,g3))) *jtheta(3, 0,q) *jtheta(4, 0, q) * jtheta(2, pi*z/(2*Omega1(g2,g3)),q)/jtheta(1, pi*z/(2*Omega1(g2,g3)),q)\n",
    "    SecondCase = (1/12)*(pi/Omega1(g2,g3))**2 * (jtheta(2, 0,q)**4 + 2*jtheta(4, 0,q)**4)\n",
    "    res = FirstCase**2 + SecondCase\n",
    "    return res"
   ]
  },
  {
   "cell_type": "markdown",
   "id": "bf9aead3-81a1-4910-9ca7-8c0c06a45407",
   "metadata": {},
   "source": [
    "<div style=\"font-family: 'Latin Modern Roman', Times, serif; font-size: 16px;\">\n",
    "<h2 style=\"font-size: 24px;\">1.3. $\\wp^{-1}$</h2>\n",
    "</div>"
   ]
  },
  {
   "cell_type": "markdown",
   "id": "c0b70969-c378-4d71-8296-a56e8548d069",
   "metadata": {},
   "source": [
    "<div style=\"font-family: 'Latin Modern Roman', Times, serif; font-size: 16px;\">\n",
    "\n",
    "Based on formulas  <a href=\"http://dlmf.nist.gov/23.6.E30\" target=\"_blank\">(23.6.30)</a> for $t=\\wp(z)$ we can write\n",
    "$$\n",
    "    \\wp^{-1}(t)=z = \\frac{1}{2} \\int^\\infty_t \\frac{du}{\\sqrt{(u-e_1)(u-e_2)(u-e_3)}}.\n",
    "$$\n",
    "Now we can use a definition of  <a href=\"https://en.wikipedia.org/wiki/Carlson_symmetric_form\" target=\"_blank\">Carlos elliptic integrals</a>:\n",
    "$$\n",
    "    R_F (x,y,z) = \\frac{1}{2} \\int^\\infty_0 \\frac{ds}{(s+x)(s+y)(s+z)}\n",
    "$$\n",
    "and by making a substitutuin $s+t=u$ notice that\n",
    "$$\n",
    "    \\wp^{-1}(t) = R_F (z-e_1,z-e_2,z-e_3)\n",
    "$$\n",
    "\n",
    "</div>"
   ]
  },
  {
   "cell_type": "code",
   "execution_count": 7,
   "id": "41164e7d-44d4-419d-83cc-5d16e98fbb68",
   "metadata": {},
   "outputs": [],
   "source": [
    "def InverseWeierstrassP(z,g2,g3):\n",
    "    # Coefficients of the polynomial 4*x**3 - g2*x - g3 = 0\n",
    "    coeffs = [4, 0, -g2, -g3]\n",
    "\n",
    "    # Finding the roots\n",
    "    roots = np.roots(coeffs)\n",
    "    \n",
    "    # Sorting the roots\n",
    "    roots = np.sort_complex(roots)\n",
    "    e1, e2, e3 = roots\n",
    "    \n",
    "    return elliprf(z-e1, z-e2, z-e3)"
   ]
  },
  {
   "cell_type": "markdown",
   "id": "8db12c7b-484a-40c0-b48f-aeb39baf6912",
   "metadata": {},
   "source": [
    "<div style=\"font-family: 'Latin Modern Roman', Times, serif; font-size: 16px;\">\n",
    "<h2 style=\"font-size: 24px;\">1.4. $\\wp'$</h2>\n",
    "</div>"
   ]
  },
  {
   "cell_type": "markdown",
   "id": "481ad5fd-b231-4629-b90c-3a5c9b9306fa",
   "metadata": {},
   "source": [
    "<div style=\"font-family: 'Latin Modern Roman', Times, serif; font-size: 16px;\">\n",
    "\n",
    "Now using formula provided by  <a href=\"https://functions.wolfram.com/EllipticFunctions/WeierstrassPPrime/27/02/03/0001/\" target=\"_blank\">Wolfram</a>\n",
    "$$\n",
    "    \\wp'(z) = - \\frac{\\pi^3}{4\\omega_1^3} \\frac{\\theta_2 \\left( \\frac{\\pi z}{2\\omega_1},q \\right)\\theta_3 \\left( \\frac{\\pi z}{2\\omega_1},q \\right)\\theta_4 \\left( \\frac{\\pi z}{2\\omega_1},q \\right)\\theta'_1 \\left( 0,q \\right)^3}{\\theta_2 \\left( 0,q \\right)\\theta_3 \\left( 0,q \\right)\\theta_4 \\left( 0,q \\right)\\theta_1 \\left( \\frac{\\pi z}{2\\omega_1},q \\right)^3}\n",
    "$$\n",
    "\n",
    "</div>"
   ]
  },
  {
   "cell_type": "code",
   "execution_count": 8,
   "id": "3c0ec9d7-d2dd-485c-83ef-cf3f791b989c",
   "metadata": {},
   "outputs": [],
   "source": [
    "def WeierstrassPPrime(z,g2,g3):\n",
    "    q = qfrom(tau=Omega3(g2,g3)/Omega1(g2,g3))\n",
    "    numerator = jtheta(2, pi*z/(2*Omega1(g2,g3)),q)*jtheta(3, pi*z/(2*Omega1(g2,g3)),q)*jtheta(4, pi*z/(2*Omega1(g2,g3)),q)*(jtheta(1, 0, q, derivative=1)**3)\n",
    "    denominator = jtheta(2, 0,q)*jtheta(3, 0,q)*jtheta(4, 0,q)*(jtheta(1, pi*z/(2*Omega1(g2,g3)),q)**3)\n",
    "    res = -(1/4)*(pi/Omega1(g2,g3))**3 * (numerator/denominator)\n",
    "    return res"
   ]
  },
  {
   "cell_type": "markdown",
   "id": "c032248e-113b-42f5-aea1-565dadfb4d05",
   "metadata": {},
   "source": [
    "<div style=\"font-family: 'Latin Modern Roman', Times, serif; font-size: 16px;\">\n",
    "<h1 style=\"font-size: 32px;\">2. $\\sigma$-function</h1>\n",
    "</div>"
   ]
  },
  {
   "cell_type": "markdown",
   "id": "a5b77e90-8cf3-475d-9337-db97c7b4fe68",
   "metadata": {},
   "source": [
    "<div style=\"font-family: 'Latin Modern Roman', Times, serif; font-size: 16px;\">\n",
    "\n",
    "As in previous section based on formulas <a href=\"http://dlmf.nist.gov/23.6.E8\" target=\"_blank\">(23.6.8-9)</a> we can write\n",
    "$$\n",
    "    \\sigma (z) = 2 \\omega_1 \\exp{\\left( \\frac{\\eta_1 z^2}{2 \\omega_1} \\right)} \\frac{\\theta_1(\\pi z/(2 \\omega_1),q)}{\\pi \\theta '_1 (0,q)},\n",
    "$$\n",
    "where\n",
    "$$\n",
    "    \\eta_1 = - \\frac{\\pi^2}{12 \\omega_1} \\frac{\\theta_1 ''' (0,q)}{\\theta_1'(0,q)}\n",
    "$$\n",
    "\n",
    "</div>"
   ]
  },
  {
   "cell_type": "code",
   "execution_count": 9,
   "id": "b409cc46-f466-45ed-8e98-cf572e28a1c8",
   "metadata": {},
   "outputs": [],
   "source": [
    "def eta1(g2,g3):\n",
    "    q = qfrom(tau=Omega3(g2,g3)/Omega1(g2,g3))\n",
    "    res = - (pi**2/(12*Omega1(g2,g3))) * (jtheta(1, 0, q, derivative=3)/jtheta(1, 0, q, derivative=1))\n",
    "    return res"
   ]
  },
  {
   "cell_type": "code",
   "execution_count": 10,
   "id": "4bebaafe-d0e2-4ba9-8e6c-6a324562e462",
   "metadata": {},
   "outputs": [],
   "source": [
    "def WeierstrassSigma(z,g2,g3):\n",
    "    q = qfrom(tau=Omega3(g2,g3)/Omega1(g2,g3))\n",
    "    Exp = exp((eta1(g2, g3) * z**2) / (2 * Omega1(g2, g3)))\n",
    "    res = 2*Omega1(g2,g3)*Exp * (jtheta(1, pi * z/(2*Omega1(g2,g3)),q)/(pi*jtheta(1, 0, q, derivative=1)))\n",
    "    return res"
   ]
  },
  {
   "cell_type": "markdown",
   "id": "6c97ed53-d105-4822-8bef-de9c6a7ce766",
   "metadata": {},
   "source": [
    "<div style=\"font-family: 'Latin Modern Roman', Times, serif; font-size: 16px;\">\n",
    "<h1 style=\"font-size: 32px;\">3. $\\zeta$-function</h1>\n",
    "</div>"
   ]
  },
  {
   "cell_type": "markdown",
   "id": "fc965b46-46b8-47a5-91dc-c0a261deb369",
   "metadata": {},
   "source": [
    "<div style=\"font-family: 'Latin Modern Roman', Times, serif; font-size: 16px;\">\n",
    "\n",
    "Here also based on basic property of $\\zeta$ function <a href=\"http://dlmf.nist.gov/23.2.E8\" target=\"_blank\">(23.2.8)</a> we can write\n",
    "$$\n",
    "    \\zeta (z) = \\frac{\\sigma'(z)}{\\sigma(z)} = \\frac{\\eta_1}{\\omega_1} z + \\frac{\\theta'_1(\\pi z/(2 \\omega_1),q)}{\\theta_1(\\pi z/(2 \\omega_1),q)} .\n",
    "$$\n",
    "</div>"
   ]
  },
  {
   "cell_type": "code",
   "execution_count": 11,
   "id": "6f7f7e37-f694-4ff5-ac23-f7c8d020cb93",
   "metadata": {},
   "outputs": [],
   "source": [
    "def WeierstrassZeta(z,g2,g3):\n",
    "    q = qfrom(tau=Omega3(g2,g3)/Omega1(g2,g3))\n",
    "    firstP = eta1(g2,g3) * z/Omega1(g2,g3)\n",
    "    secondP =  pi/(2*Omega1(g2,g3)) *jtheta(1,  pi * z/(2*Omega1(g2,g3)), q, derivative=1)/jtheta(1,  pi * z/(2*Omega1(g2,g3)), q)\n",
    "    return firstP + secondP"
   ]
  },
  {
   "cell_type": "markdown",
   "id": "355d7610-c4b1-49ed-83a9-df5dd0518a7a",
   "metadata": {},
   "source": [
    "<div style=\"font-family: 'Latin Modern Roman', Times, serif; font-size: 16px;\">\n",
    "<h1 style=\"font-size: 32px;\">4. Tests</h1>\n",
    "</div>"
   ]
  },
  {
   "cell_type": "markdown",
   "id": "e290bfb7-e917-4852-80e2-63224f6cec20",
   "metadata": {},
   "source": [
    "<div style=\"font-family: 'Latin Modern Roman', Times, serif; font-size: 16px;\">\n",
    "\n",
    "As a test of the definitions presented above, we will check whether they satisfy the classical formulas presented in the <a href=\"https://dlmf.nist.gov/23\" target=\"_blank\">DLMF</a>  database\n",
    "\n",
    "</div>"
   ]
  },
  {
   "cell_type": "markdown",
   "id": "0332c8a6-40ba-4b7b-a53f-8cab6fa8c560",
   "metadata": {},
   "source": [
    "<div style=\"font-family: 'Latin Modern Roman', Times, serif; font-size: 16px;\">\n",
    "<h2 style=\"font-size: 24px;\">4.1. Inverse function</h2>\n",
    "</div>"
   ]
  },
  {
   "cell_type": "code",
   "execution_count": 24,
   "id": "525f85ef-4018-42be-8b9a-11a2982abb61",
   "metadata": {},
   "outputs": [
    {
     "name": "stdout",
     "output_type": "stream",
     "text": [
      "Test: (-7.509685736771685288413282e-17 - 8.424378440054159724698837e-18j)\n"
     ]
    }
   ],
   "source": [
    "# We choose invariants\n",
    "G2 = 1.234\n",
    "G3 = -4.213\n",
    "\n",
    "# Argument\n",
    "zz = 1.2321\n",
    "\n",
    "wp = WeierstrassP(zz,G2,G3)\n",
    "print(\"Test:\", zz- InverseWeierstrassP(wp,G2,G3))"
   ]
  },
  {
   "cell_type": "code",
   "execution_count": 25,
   "id": "632b142f-caac-4995-90d3-2a0785df3549",
   "metadata": {},
   "outputs": [
    {
     "name": "stdout",
     "output_type": "stream",
     "text": [
      "Test: (2.477649715664536837637235 - 0.4260000000000000511407329j)\n"
     ]
    }
   ],
   "source": [
    "# We choose invariants\n",
    "G2 = 1.895312\n",
    "G3 = -7.126521\n",
    "\n",
    "# Argument\n",
    "zz= 3.213 - j*0.213\n",
    "\n",
    "wp = WeierstrassP(zz,G2,G3)\n",
    "print(\"Test:\", zz- InverseWeierstrassP(wp,G2,G3))"
   ]
  },
  {
   "cell_type": "markdown",
   "id": "66bf96c4-61c4-4641-9dd5-a9d2417c8328",
   "metadata": {},
   "source": [
    "<div style=\"background-color:  rgba(153, 204, 255, 0.25); \n",
    "    font-family: 'Latin Modern Roman', Times, serif; font-size: 16px; border: 1px solid  rgb(0, 128,255); padding: 15px; border-radius: 5px; \">\n",
    "    <h4 style=\"font-size: 20px;color: rgb(0, 128,255);\">Note 4.1.1.</h4>\n",
    "    <p>\n",
    "    <ul>\n",
    "        Definition of $\\wp^{-1}$ to be refined in the future\n",
    "    </ul>            \n",
    "  </p>\n",
    "</div>"
   ]
  },
  {
   "cell_type": "markdown",
   "id": "f4db99be-62ef-45df-a3c1-6ea78eb67adc",
   "metadata": {},
   "source": [
    "<div style=\"font-family: 'Latin Modern Roman', Times, serif; font-size: 16px;\">\n",
    "<h2 style=\"font-size: 24px;\">4.2. Periodicity</h2>\n",
    "</div>"
   ]
  },
  {
   "cell_type": "markdown",
   "id": "2e0ffd77-022e-4a1d-a03e-a58066c99203",
   "metadata": {},
   "source": [
    "<div style=\"background-color:  rgba(224, 224, 224, 0.25); \n",
    "    font-family: 'Latin Modern Roman', Times, serif; font-size: 16px; border: 1px solid  rgb(192, 192, 192); padding: 15px; border-radius: 5px; \">\n",
    "    <h4 style=\"font-size: 20px;color: rgb(160, 160, 160);\">Definition 4.2.1.</h4>\n",
    "    <p> For any half-periods $\\omega_j$ and $\\omega_k$, where $j=1,2,3$, $k=1,2,3$ and $j\\neq k$ we have (Eq.  <a href=\"http://dlmf.nist.gov/23.2.E9\" target=\"_blank\">(23.2.9)</a>):\n",
    "$$\n",
    "    \\wp(z+2m\\omega_j + 2n\\omega_k) = \\wp(z)\n",
    "$$\n",
    "   <p>\n",
    "   </div>   "
   ]
  },
  {
   "cell_type": "code",
   "execution_count": 26,
   "id": "8cbcb632-4e87-402b-afc4-1bca7a6f5fd5",
   "metadata": {},
   "outputs": [
    {
     "name": "stdout",
     "output_type": "stream",
     "text": [
      "test1= (-1.033975765691284593589261e-25 + 1.292469707114105741986576e-26j)\n",
      "test2= (2.584939414228211483973152e-25 - 2.584939414228211483973152e-25j)\n",
      "test2= (1.033975765691284593589261e-25 + 7.754818242684634451919456e-26j)\n",
      "test4= (3.205324873642982240126709e-24 + 1.938704560671158612979864e-24j)\n",
      "test5= (1.447566071967798431024965e-24 - 6.203854594147707561535565e-25j)\n",
      "test6= (2.429843049374518794934763e-24 - 1.641436528034914292322952e-24j)\n"
     ]
    }
   ],
   "source": [
    "# We choose invariants\n",
    "G2 = 1.895312\n",
    "G3 = -7.126521\n",
    "\n",
    "# Argument\n",
    "zz= 3.213 - j*0.213\n",
    "\n",
    "# Half-periods\n",
    "w1 = Omega1(G2,G3)\n",
    "w2 = Omega2(G2,G3)\n",
    "w3 = Omega3(G2,G3)\n",
    "\n",
    "# Tests for \n",
    "n=1\n",
    "m=1\n",
    "test1 = WeierstrassP(zz + 2*m*w1 + 2*n*w2,G2,G3)-WeierstrassP(zz,G2,G3)\n",
    "test2 = WeierstrassP(zz + 2*m*w1 + 2*n*w3,G2,G3)-WeierstrassP(zz,G2,G3)\n",
    "test3 = WeierstrassP(zz + 2*m*w2 + 2*n*w3,G2,G3)-WeierstrassP(zz,G2,G3)\n",
    "\n",
    "print(\"test1=\",test1)\n",
    "print(\"test2=\",test2)\n",
    "print(\"test2=\",test3)\n",
    "\n",
    "# Tests for \n",
    "n=10\n",
    "m=-7\n",
    "test4 = WeierstrassP(zz + 2*m*w1 + 2*n*w2,G2,G3)-WeierstrassP(zz,G2,G3)\n",
    "test5 = WeierstrassP(zz + 2*m*w1 + 2*n*w3,G2,G3)-WeierstrassP(zz,G2,G3)\n",
    "test6 = WeierstrassP(zz + 2*m*w2 + 2*n*w3,G2,G3)-WeierstrassP(zz,G2,G3)\n",
    "\n",
    "print(\"test4=\",test4)\n",
    "print(\"test5=\",test5)\n",
    "print(\"test6=\",test6)"
   ]
  },
  {
   "cell_type": "markdown",
   "id": "a0a18fe6-22e8-464c-849a-7e2477aa08d7",
   "metadata": {},
   "source": [
    "<div style=\"background-color:  rgba(224, 224, 224, 0.25); \n",
    "    font-family: 'Latin Modern Roman', Times, serif; font-size: 16px; border: 1px solid  rgb(192, 192, 192); padding: 15px; border-radius: 5px; \">\n",
    "    <h4 style=\"font-size: 20px;color: rgb(160, 160, 160);\">Definition 4.2.2.</h4>\n",
    "    <p> For any half-period $\\omega_j$, where $j=1,2,3$, we have (Eq. <a href=\"http://dlmf.nist.gov/23.2.E10\" target=\"_blank\">(23.2.10)</a>):\n",
    "$$\n",
    "    \\wp'(\\omega_j) = 0\n",
    "$$\n",
    "   <p>\n",
    "   </div>   "
   ]
  },
  {
   "cell_type": "code",
   "execution_count": 27,
   "id": "57912c08-a60e-408b-b1ea-32c995bab288",
   "metadata": {},
   "outputs": [
    {
     "name": "stdout",
     "output_type": "stream",
     "text": [
      "Pp(w1)= (-6.931760603104882576931517e-43 - 6.296721374115339483675423e-26j)\n",
      "Pp(w2)= (1.22721438984159158065958e-25 + 1.316070721200402623363533e-25j)\n",
      "Pp(w2)= (1.22721438984159158065958e-25 + 1.316070721200402623363533e-25j)\n"
     ]
    }
   ],
   "source": [
    "# We choose invariants\n",
    "G2 = 1.895312\n",
    "G3 = -7.126521\n",
    "\n",
    "# Half-periods\n",
    "w1 = Omega1(G2,G3)\n",
    "w2 = Omega2(G2,G3)\n",
    "w3 = Omega3(G2,G3)\n",
    "\n",
    "print(\"Pp(w1)=\", WeierstrassPPrime(w1,G2,G3))\n",
    "print(\"Pp(w2)=\", WeierstrassPPrime(w2,G2,G3))\n",
    "print(\"Pp(w2)=\", WeierstrassPPrime(w2,G2,G3))"
   ]
  },
  {
   "cell_type": "markdown",
   "id": "091f8d18-fb4b-4173-80b6-535dcfcbf90b",
   "metadata": {},
   "source": [
    "<div style=\"background-color:  rgba(224, 224, 224, 0.25); \n",
    "    font-family: 'Latin Modern Roman', Times, serif; font-size: 16px; border: 1px solid  rgb(192, 192, 192); padding: 15px; border-radius: 5px; \">\n",
    "    <h4 style=\"font-size: 20px;color: rgb(160, 160, 160);\">Definition 4.2.3.</h4>\n",
    "    <p> The function $\\zeta(z)$ is quasi-periodic and for $j=1,2,3$ satisfies (Eq.  <a href=\"http://dlmf.nist.gov/23.2.E11\" target=\"_blank\">(23.2.11)</a>):\n",
    "    $$\n",
    "        \\zeta(z+2\\omega_j) = \\zeta(z) + 2\\zeta(\\omega_j)\n",
    "    $$\n",
    "   <p>\n",
    "   </div>   "
   ]
  },
  {
   "cell_type": "code",
   "execution_count": 28,
   "id": "6f24d4ac-b57d-4452-826f-5f4b738aeea0",
   "metadata": {},
   "outputs": [
    {
     "name": "stdout",
     "output_type": "stream",
     "text": [
      "Test for w1 = (4.591554204828980849167322e-27 + 5.169878828456422967946304e-26j)\n",
      "Test for w2 = (-2.584939414228211483973152e-26 + 0.0j)\n",
      "Test for w3 = (-7.754818242684634451919456e-26 + 1.292469707114105741986576e-26j)\n"
     ]
    }
   ],
   "source": [
    "# We choose invariants\n",
    "G2 = 1.895312\n",
    "G3 = -7.126521\n",
    "\n",
    "# Argument\n",
    "zz = 3.213 - j*0.213\n",
    "\n",
    "# Half-periods\n",
    "w1 = Omega1(G2,G3)\n",
    "w2 = Omega2(G2,G3)\n",
    "w3 = Omega3(G2,G3)\n",
    "\n",
    "print(\"Test for w1 =\", WeierstrassZeta(zz+2*w1,G2,G3)-WeierstrassZeta(zz,G2,G3)-2*WeierstrassZeta(w1,G2,G3))\n",
    "print(\"Test for w2 =\", WeierstrassZeta(zz+2*w2,G2,G3)-WeierstrassZeta(zz,G2,G3)-2*WeierstrassZeta(w2,G2,G3))\n",
    "print(\"Test for w3 =\", WeierstrassZeta(zz+2*w3,G2,G3)-WeierstrassZeta(zz,G2,G3)-2*WeierstrassZeta(w3,G2,G3))"
   ]
  },
  {
   "cell_type": "markdown",
   "id": "c0d674f8-ec86-4950-97ea-c49e48d70c2a",
   "metadata": {},
   "source": [
    "<div style=\"background-color:  rgba(224, 224, 224, 0.25); \n",
    "    font-family: 'Latin Modern Roman', Times, serif; font-size: 16px; border: 1px solid  rgb(192, 192, 192); padding: 15px; border-radius: 5px; \">\n",
    "    <h4 style=\"font-size: 20px;color: rgb(160, 160, 160);\">Definition 4.2.4.</h4>\n",
    "    <p> The function $\\sigma(z)$ is quasi-periodic and for $j=1,2,3$ satisfies (Eq.  <a href=\"http://dlmf.nist.gov/23.2.E15\" target=\"_blank\">(23.2.15)</a>):\n",
    "    $$\n",
    "        \\sigma(z+2\\omega_j) = - e^{2\\eta_j (z+\\omega_j)}\\sigma(z), \\quad \\eta_j = \\zeta(\\omega_j)\n",
    "    $$\n",
    "   <p>\n",
    "   </div>   "
   ]
  },
  {
   "cell_type": "code",
   "execution_count": 31,
   "id": "b8255c08-b176-4540-9f8c-7f39b3457a09",
   "metadata": {},
   "outputs": [
    {
     "name": "stdout",
     "output_type": "stream",
     "text": [
      "Test for w1 = (-2.150669592637871954665663e-23 - 9.926167350636332098456904e-24j)\n",
      "Test for w2 = (-3.437969420923521273684292e-24 + 0.0j)\n",
      "Test for w3 = (-6.352747104407252543012419e-22 + 1.482307657695025593369564e-21j)\n"
     ]
    }
   ],
   "source": [
    "# We choose invariants\n",
    "G2 = 1.895312\n",
    "G3 = -7.126521\n",
    "\n",
    "# Argument\n",
    "zz = 3.213 - j*0.213\n",
    "\n",
    "# Half-periods\n",
    "w1 = Omega1(G2,G3)\n",
    "w2 = Omega2(G2,G3)\n",
    "w3 = Omega3(G2,G3)\n",
    "\n",
    "print(\"Test for w1 =\", WeierstrassSigma(zz+2*w1,G2,G3)+exp(2*WeierstrassZeta(w1,G2,G3)*(zz+w1))* WeierstrassSigma(zz,G2,G3))\n",
    "print(\"Test for w2 =\", WeierstrassSigma(zz+2*w2,G2,G3)+exp(2*WeierstrassZeta(w2,G2,G3)*(zz+w2))* WeierstrassSigma(zz,G2,G3))\n",
    "print(\"Test for w3 =\", WeierstrassSigma(zz+2*w3,G2,G3)+exp(2*WeierstrassZeta(w3,G2,G3)*(zz+w3))* WeierstrassSigma(zz,G2,G3))"
   ]
  },
  {
   "cell_type": "markdown",
   "id": "0db721f3-95c2-4b17-8a0d-5257b6d6cbf9",
   "metadata": {},
   "source": [
    "<div style=\"font-family: 'Latin Modern Roman', Times, serif; font-size: 16px;\">\n",
    "<h2 style=\"font-size: 24px;\">4.3. Differential equation</h2>\n",
    "</div>"
   ]
  },
  {
   "cell_type": "markdown",
   "id": "11634efb-8dfe-4a88-ad27-b4ad1a8eb0dc",
   "metadata": {},
   "source": [
    "<div style=\"background-color:  rgba(224, 224, 224, 0.25); \n",
    "    font-family: 'Latin Modern Roman', Times, serif; font-size: 16px; border: 1px solid  rgb(192, 192, 192); padding: 15px; border-radius: 5px; \">\n",
    "    <h4 style=\"font-size: 20px;color: rgb(160, 160, 160);\">Definition 4.3.1.</h4>\n",
    "    <p> \n",
    "        Then the $\\wp$-function satisfies the differential equation (Eq. <a href=\"http://dlmf.nist.gov/23.3.E10\" target=\"_blank\">(23.3.10)</a>)\n",
    "    $$\n",
    "        \\wp'^2(z) = 4 \\wp^3(z) - g_2 \\wp(z) -g_3\n",
    "    $$ \n",
    "   <p>\n",
    "   </div>  "
   ]
  },
  {
   "cell_type": "code",
   "execution_count": 50,
   "id": "1ad8a7e1-ec14-4735-ad27-efe848e41c75",
   "metadata": {},
   "outputs": [
    {
     "name": "stdout",
     "output_type": "stream",
     "text": [
      "Test= (-1.614271245345283503057947e-15 + 2.562300535517916121622207e-16j)\n"
     ]
    }
   ],
   "source": [
    "# We choose invariants\n",
    "G2 = 1.895312\n",
    "G3 = -7.126521\n",
    "\n",
    "# Argument\n",
    "zz = 3.213 - j*0.213\n",
    "\n",
    "left = WeierstrassPPrime(zz,G2,G3)**2\n",
    "right = 4*WeierstrassP(zz,G2,G3)**3 - G2*WeierstrassP(zz,G2,G3) - G3\n",
    "\n",
    "print(\"Test=\", left - right)"
   ]
  },
  {
   "cell_type": "markdown",
   "id": "bf5676b2-7c6d-424d-b891-3f5a0f578163",
   "metadata": {},
   "source": [
    "<div style=\"font-family: 'Latin Modern Roman', Times, serif; font-size: 16px;\">\n",
    "<h2 style=\"font-size: 24px;\">4.4. Roots</h2>\n",
    "</div>"
   ]
  },
  {
   "cell_type": "markdown",
   "id": "9114a23e-f334-41a0-a7a9-63bfbf638c3d",
   "metadata": {},
   "source": [
    "<div style=\"background-color:  rgba(224, 224, 224, 0.25); \n",
    "    font-family: 'Latin Modern Roman', Times, serif; font-size: 16px; border: 1px solid  rgb(192, 192, 192); padding: 15px; border-radius: 5px; \">\n",
    "    <h4 style=\"font-size: 20px;color: rgb(160, 160, 160);\">Definition 4.4.1.</h4>\n",
    "    <p> \n",
    "    Given any half-perods $\\omega_j$, $j=1,2,3$ we can identify the $e_j$ individually, via (Eq. <a href=\"http://dlmf.nist.gov/23.3.E9\" target=\"_blank\">23.3.9</a>)\n",
    "    $$\n",
    "        e_j = \\wp(\\omega_j)\n",
    "    $$\n",
    "   <p>\n",
    "   </div>  "
   ]
  },
  {
   "cell_type": "code",
   "execution_count": 62,
   "id": "8283b30d-9eec-4b98-8f26-9ffb00ede19c",
   "metadata": {},
   "outputs": [
    {
     "name": "stdout",
     "output_type": "stream",
     "text": [
      "e1 - wp(w1)= (1.324551388116140543331598e-16 - 3.49091863489540942883054e-18j)\n",
      "e2 - wp(w2)= (1.777149086210981423180532e-16 + 6.981837347299436801338255e-18j)\n",
      "e3 - wp(w3)= (1.324551388116140543331598e-16 - 3.490918686574415471810185e-18j)\n"
     ]
    }
   ],
   "source": [
    "# We choose invariants\n",
    "G2 = 1.895312\n",
    "G3 = -7.126521\n",
    "\n",
    "# Argument\n",
    "zz = 3.213 - j*0.213\n",
    "\n",
    "# Half-periods\n",
    "w1 = Omega1(G2,G3)\n",
    "w2 = Omega2(G2,G3)\n",
    "w3 = Omega3(G2,G3)\n",
    "\n",
    "# Coefficients of the polynomial 4*x**3 - g2*x - g3 = 0\n",
    "coeffs = [4, 0, -G2, -G3]\n",
    "\n",
    "# Finding the roots\n",
    "roots = np.roots(coeffs)\n",
    "    \n",
    "# Sorting the roots\n",
    "roots = np.sort_complex(roots)\n",
    "e1, e2, e3 = roots\n",
    "\n",
    "print(\"e1 - wp(w1)=\", e1 - WeierstrassP(w1,G2,G3) )\n",
    "print(\"e2 - wp(w2)=\", e2 - WeierstrassP(w2,G2,G3) )\n",
    "print(\"e3 - wp(w3)=\", e3 - WeierstrassP(w3,G2,G3) )"
   ]
  },
  {
   "cell_type": "markdown",
   "id": "aa8ff5c7-2c01-4716-acce-5688a971b664",
   "metadata": {},
   "source": [
    "<div style=\"font-family: 'Latin Modern Roman', Times, serif; font-size: 16px;\">\n",
    "<h2 style=\"font-size: 24px;\">4.5. Addition formulas</h2>\n",
    "</div>"
   ]
  },
  {
   "cell_type": "markdown",
   "id": "3c98f5b7-2b92-4a43-8efa-c7cc75f6ba32",
   "metadata": {},
   "source": [
    "<div style=\"background-color:  rgba(224, 224, 224, 0.25); \n",
    "    font-family: 'Latin Modern Roman', Times, serif; font-size: 16px; border: 1px solid  rgb(192, 192, 192); padding: 15px; border-radius: 5px; \">\n",
    "    <h4 style=\"font-size: 20px;color: rgb(160, 160, 160);\">Definition 4.5.1.</h4>\n",
    "    <p>\n",
    "    Let $u,v\\in\\mathbb{C}$, so that $u,v,u+v,u-v\\notin\\Lambda$. Then one has (Eq. <a href=\"http://dlmf.nist.gov/23.10.E1\" target=\"_blank\">23.10.1</a>):      \n",
    "    $$\n",
    "        \\wp(u+v) = \\frac{1}{4} \\left( \\frac{\\wp'(u) - \\wp'(v)}{\\wp(u) - \\wp(v)}\\right)^2 - \\wp(u) - \\wp(v)\n",
    "    $$ \n",
    "   <p>\n",
    "   </div>  "
   ]
  },
  {
   "cell_type": "code",
   "execution_count": 57,
   "id": "86afadd4-0165-4513-ba4f-776be715338c",
   "metadata": {},
   "outputs": [
    {
     "name": "stdout",
     "output_type": "stream",
     "text": [
      "Test= (2.235086292545507092537055e-16 - 4.717514430966485958251003e-25j)\n"
     ]
    }
   ],
   "source": [
    "# We choose invariants\n",
    "G2 = 1.895312\n",
    "G3 = -7.126521\n",
    "\n",
    "# Argument\n",
    "u = 3.213 - j*0.213\n",
    "v = 1.986 + j*1.218\n",
    "\n",
    "left = WeierstrassP(u + v,G2,G3)\n",
    "right = (1/4)*((WeierstrassPPrime(u,G2,G3)-WeierstrassPPrime(v,G2,G3))/(WeierstrassP(u,G2,G3)-WeierstrassP(v,G2,G3)))**2 - WeierstrassP(u,G2,G3) - WeierstrassP(v,G2,G3)\n",
    "print(\"Test=\", left-right)"
   ]
  },
  {
   "cell_type": "markdown",
   "id": "b242ca24-d5ae-4598-b077-59a67e724273",
   "metadata": {},
   "source": [
    "<div style=\"background-color:  rgba(224, 224, 224, 0.25); \n",
    "    font-family: 'Latin Modern Roman', Times, serif; font-size: 16px; border: 1px solid  rgb(192, 192, 192); padding: 15px; border-radius: 5px; \">\n",
    "    <h4 style=\"font-size: 20px;color: rgb(160, 160, 160);\">Definition 4.5.2.</h4>\n",
    "    <p> \n",
    "       Let $u,v\\in\\mathbb{C}$, so that $u,v,u+v,u-v\\notin\\Lambda$. Then one has (Eq. <a href=\"http://dlmf.nist.gov/23.10.E2\" target=\"_blank\">23.10.2</a>):      \n",
    "    $$\n",
    "        \\zeta(u+v) = \\zeta(u) + \\zeta(v) + \\frac{1}{2} \\frac{\\zeta''(u)-\\zeta''(v)}{\\zeta'(u) - \\zeta'(u)}\n",
    "    $$ \n",
    "        Hovewer we have Eq. <a href=\"http://dlmf.nist.gov/23.2.E7\" target=\"_blank\">23.2.7</a> $\\wp(z) = - \\zeta'(z)$, so\n",
    "    $$\n",
    "        \\zeta(u+v) = \\zeta(u) + \\zeta(v) + \\frac{1}{2} \\frac{\\wp'(u)-\\wp'(v)}{\\wp(u) - \\wp(u)}\n",
    "    $$     \n",
    "   <p>\n",
    "   </div>  "
   ]
  },
  {
   "cell_type": "code",
   "execution_count": 59,
   "id": "aee74bfc-f571-4990-bbfc-06bbce1473ae",
   "metadata": {},
   "outputs": [
    {
     "name": "stdout",
     "output_type": "stream",
     "text": [
      "Test= (-2.067951531382569187178522e-25 - 3.877409121342317225959728e-26j)\n"
     ]
    }
   ],
   "source": [
    "# We choose invariants\n",
    "G2 = 1.895312\n",
    "G3 = -7.126521\n",
    "\n",
    "# Argument\n",
    "u = 3.213 - j*0.213\n",
    "v = 1.986 + j*1.218\n",
    "\n",
    "left = WeierstrassZeta(u + v,G2,G3)\n",
    "right = WeierstrassZeta(u ,G2,G3) +WeierstrassZeta(v,G2,G3) + (1/2) *(WeierstrassPPrime(u,G2,G3)-WeierstrassPPrime(v,G2,G3))/(WeierstrassP(u,G2,G3)-WeierstrassP(v,G2,G3))\n",
    "print(\"Test=\", left-right)"
   ]
  },
  {
   "cell_type": "markdown",
   "id": "0e1d0e76-161e-4771-9333-bab4c0ecadb1",
   "metadata": {},
   "source": [
    "<div style=\"background-color:  rgba(224, 224, 224, 0.25); \n",
    "    font-family: 'Latin Modern Roman', Times, serif; font-size: 16px; border: 1px solid  rgb(192, 192, 192); padding: 15px; border-radius: 5px; \">\n",
    "    <h4 style=\"font-size: 20px;color: rgb(160, 160, 160);\">Definition 4.5.3.</h4>\n",
    "    <p> \n",
    "        Let $u,v\\in\\mathbb{C}$, so that $u,v,u+v,u-v\\notin\\Lambda$. Then one has (Eq. <a href=\"http://dlmf.nist.gov/23.10.E3\" target=\"_blank\">23.10.3</a>):      \n",
    "    $$\n",
    "        \\frac{\\sigma(u+v)\\sigma(u-v)}{\\sigma^2(u)\\sigma^2(v)} = \\wp(v) - \\wp(u)\n",
    "    $$ \n",
    "   <p>\n",
    "   </div>  "
   ]
  },
  {
   "cell_type": "code",
   "execution_count": 61,
   "id": "5fa0505b-1d55-4bf7-a31e-b4baa78f7677",
   "metadata": {},
   "outputs": [
    {
     "name": "stdout",
     "output_type": "stream",
     "text": [
      "Test= (1.075334796318935977332831e-23 - 3.101927297073853780767783e-24j)\n"
     ]
    }
   ],
   "source": [
    "# We choose invariants\n",
    "G2 = 1.895312\n",
    "G3 = -7.126521\n",
    "\n",
    "# Argument\n",
    "u = 3.213 - j*0.213\n",
    "v = 1.986 + j*1.218\n",
    "\n",
    "left = WeierstrassSigma(u + v,G2,G3)* WeierstrassSigma(u - v,G2,G3)/( WeierstrassSigma(u,G2,G3)**2 *  WeierstrassSigma(v,G2,G3)**2)\n",
    "right = WeierstrassP(v,G2,G3)-WeierstrassP(u,G2,G3)\n",
    "print(\"Test=\", left-right)"
   ]
  }
 ],
 "metadata": {
  "kernelspec": {
   "display_name": "Python 3 (ipykernel)",
   "language": "python",
   "name": "python3"
  },
  "language_info": {
   "codemirror_mode": {
    "name": "ipython",
    "version": 3
   },
   "file_extension": ".py",
   "mimetype": "text/x-python",
   "name": "python",
   "nbconvert_exporter": "python",
   "pygments_lexer": "ipython3",
   "version": "3.13.1"
  }
 },
 "nbformat": 4,
 "nbformat_minor": 5
}
